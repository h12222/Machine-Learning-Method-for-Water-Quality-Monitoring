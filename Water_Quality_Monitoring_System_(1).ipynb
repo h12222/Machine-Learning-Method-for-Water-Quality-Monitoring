{
  "nbformat": 4,
  "nbformat_minor": 0,
  "metadata": {
    "kernelspec": {
      "display_name": "Python 3",
      "language": "python",
      "name": "python3"
    },
    "language_info": {
      "codemirror_mode": {
        "name": "ipython",
        "version": 3
      },
      "file_extension": ".py",
      "mimetype": "text/x-python",
      "name": "python",
      "nbconvert_exporter": "python",
      "pygments_lexer": "ipython3",
      "version": "3.7.6"
    },
    "colab": {
      "name": "Water Quality Monitoring System  (1).ipynb",
      "provenance": []
    }
  },
  "cells": [
    {
      "cell_type": "markdown",
      "metadata": {
        "id": "kuduT57-yYox"
      },
      "source": [
        "# Author:- Hemant Bhutada , Manish Yadav, Nishant Yadav, Pankaj Baheti"
      ]
    },
    {
      "cell_type": "markdown",
      "metadata": {
        "id": "BG-DtP-PyYo3"
      },
      "source": [
        "# Mentor:- Dr.Aleefia Khurshid"
      ]
    },
    {
      "cell_type": "markdown",
      "metadata": {
        "id": "oP27P4fbyYo5"
      },
      "source": [
        "Problem Statement:- Machine learning methods for water quality monitoring"
      ]
    },
    {
      "cell_type": "raw",
      "metadata": {
        "id": "GuzCk4TiyYo6"
      },
      "source": [
        "Algorithm Used:-\n",
        "                 1)Simple Linear Regression\n",
        "                 2)Lasso Regression\n",
        "                 3)Ridge Regression\n",
        "                 4)Elastic Net"
      ]
    },
    {
      "cell_type": "code",
      "metadata": {
        "id": "xXG-zR6myYo7"
      },
      "source": [
        "# Import all the required libraries\n",
        "import pandas as pd\n",
        "import numpy as np\n",
        "from matplotlib import pyplot as plt\n",
        "%matplotlib inline\n",
        "import seaborn as sns"
      ],
      "execution_count": null,
      "outputs": []
    },
    {
      "cell_type": "code",
      "metadata": {
        "colab": {
          "base_uri": "https://localhost:8080/",
          "height": 431
        },
        "id": "IUdOqUZryYo9",
        "outputId": "4b922b5a-7238-4503-d0ba-56193828118c"
      },
      "source": [
        "#Read the dataset\n",
        "df=pd.read_excel(\"/content/sample_data/final_dataset.xlsx\")\n",
        "df"
      ],
      "execution_count": null,
      "outputs": [
        {
          "output_type": "execute_result",
          "data": {
            "text/html": [
              "<div>\n",
              "<style scoped>\n",
              "    .dataframe tbody tr th:only-of-type {\n",
              "        vertical-align: middle;\n",
              "    }\n",
              "\n",
              "    .dataframe tbody tr th {\n",
              "        vertical-align: top;\n",
              "    }\n",
              "\n",
              "    .dataframe thead th {\n",
              "        text-align: right;\n",
              "    }\n",
              "</style>\n",
              "<table border=\"1\" class=\"dataframe\">\n",
              "  <thead>\n",
              "    <tr style=\"text-align: right;\">\n",
              "      <th></th>\n",
              "      <th>cod</th>\n",
              "      <th>tss</th>\n",
              "      <th>bod</th>\n",
              "      <th>ph</th>\n",
              "      <th>ammonia</th>\n",
              "      <th>temp</th>\n",
              "      <th>do</th>\n",
              "      <th>Unnamed: 7</th>\n",
              "      <th>Unnamed: 8</th>\n",
              "      <th>Unnamed: 9</th>\n",
              "      <th>Unnamed: 10</th>\n",
              "      <th>Unnamed: 11</th>\n",
              "      <th>Unnamed: 12</th>\n",
              "      <th>COD</th>\n",
              "      <th>TSS</th>\n",
              "      <th>BOD</th>\n",
              "      <th>PH</th>\n",
              "      <th>Ammonia</th>\n",
              "      <th>Temp</th>\n",
              "      <th>DO</th>\n",
              "    </tr>\n",
              "  </thead>\n",
              "  <tbody>\n",
              "    <tr>\n",
              "      <th>0</th>\n",
              "      <td>26.66</td>\n",
              "      <td>43.22</td>\n",
              "      <td>9.10</td>\n",
              "      <td>7.57</td>\n",
              "      <td>3.41</td>\n",
              "      <td>25.70</td>\n",
              "      <td>6.83</td>\n",
              "      <td>NaN</td>\n",
              "      <td>NaN</td>\n",
              "      <td>NaN</td>\n",
              "      <td>NaN</td>\n",
              "      <td>NaN</td>\n",
              "      <td>NaN</td>\n",
              "      <td>0.135785</td>\n",
              "      <td>0.113382</td>\n",
              "      <td>0.023873</td>\n",
              "      <td>0.038592</td>\n",
              "      <td>0.013903</td>\n",
              "      <td>0.371622</td>\n",
              "      <td>0.583189</td>\n",
              "    </tr>\n",
              "    <tr>\n",
              "      <th>1</th>\n",
              "      <td>12.39</td>\n",
              "      <td>347.56</td>\n",
              "      <td>0.79</td>\n",
              "      <td>8.04</td>\n",
              "      <td>0.74</td>\n",
              "      <td>28.80</td>\n",
              "      <td>4.59</td>\n",
              "      <td>NaN</td>\n",
              "      <td>NaN</td>\n",
              "      <td>NaN</td>\n",
              "      <td>NaN</td>\n",
              "      <td>NaN</td>\n",
              "      <td>NaN</td>\n",
              "      <td>0.063105</td>\n",
              "      <td>0.911776</td>\n",
              "      <td>0.002072</td>\n",
              "      <td>0.045818</td>\n",
              "      <td>0.002722</td>\n",
              "      <td>0.581081</td>\n",
              "      <td>0.389081</td>\n",
              "    </tr>\n",
              "    <tr>\n",
              "      <th>2</th>\n",
              "      <td>11.53</td>\n",
              "      <td>108.66</td>\n",
              "      <td>1.16</td>\n",
              "      <td>8.01</td>\n",
              "      <td>1.39</td>\n",
              "      <td>27.03</td>\n",
              "      <td>6.67</td>\n",
              "      <td>NaN</td>\n",
              "      <td>NaN</td>\n",
              "      <td>NaN</td>\n",
              "      <td>NaN</td>\n",
              "      <td>NaN</td>\n",
              "      <td>NaN</td>\n",
              "      <td>0.058725</td>\n",
              "      <td>0.285055</td>\n",
              "      <td>0.003043</td>\n",
              "      <td>0.045357</td>\n",
              "      <td>0.005444</td>\n",
              "      <td>0.461486</td>\n",
              "      <td>0.569324</td>\n",
              "    </tr>\n",
              "    <tr>\n",
              "      <th>3</th>\n",
              "      <td>9.97</td>\n",
              "      <td>93.68</td>\n",
              "      <td>1.69</td>\n",
              "      <td>7.66</td>\n",
              "      <td>2.01</td>\n",
              "      <td>26.30</td>\n",
              "      <td>7.79</td>\n",
              "      <td>NaN</td>\n",
              "      <td>NaN</td>\n",
              "      <td>NaN</td>\n",
              "      <td>NaN</td>\n",
              "      <td>NaN</td>\n",
              "      <td>NaN</td>\n",
              "      <td>0.050779</td>\n",
              "      <td>0.245757</td>\n",
              "      <td>0.004433</td>\n",
              "      <td>0.039975</td>\n",
              "      <td>0.008041</td>\n",
              "      <td>0.412162</td>\n",
              "      <td>0.666378</td>\n",
              "    </tr>\n",
              "    <tr>\n",
              "      <th>4</th>\n",
              "      <td>12.45</td>\n",
              "      <td>53.61</td>\n",
              "      <td>0.99</td>\n",
              "      <td>8.00</td>\n",
              "      <td>6.10</td>\n",
              "      <td>27.30</td>\n",
              "      <td>7.55</td>\n",
              "      <td>NaN</td>\n",
              "      <td>NaN</td>\n",
              "      <td>NaN</td>\n",
              "      <td>NaN</td>\n",
              "      <td>NaN</td>\n",
              "      <td>NaN</td>\n",
              "      <td>0.063410</td>\n",
              "      <td>0.140639</td>\n",
              "      <td>0.002597</td>\n",
              "      <td>0.045203</td>\n",
              "      <td>0.025169</td>\n",
              "      <td>0.479730</td>\n",
              "      <td>0.645581</td>\n",
              "    </tr>\n",
              "    <tr>\n",
              "      <th>...</th>\n",
              "      <td>...</td>\n",
              "      <td>...</td>\n",
              "      <td>...</td>\n",
              "      <td>...</td>\n",
              "      <td>...</td>\n",
              "      <td>...</td>\n",
              "      <td>...</td>\n",
              "      <td>...</td>\n",
              "      <td>...</td>\n",
              "      <td>...</td>\n",
              "      <td>...</td>\n",
              "      <td>...</td>\n",
              "      <td>...</td>\n",
              "      <td>...</td>\n",
              "      <td>...</td>\n",
              "      <td>...</td>\n",
              "      <td>...</td>\n",
              "      <td>...</td>\n",
              "      <td>...</td>\n",
              "      <td>...</td>\n",
              "    </tr>\n",
              "    <tr>\n",
              "      <th>87</th>\n",
              "      <td>70.97</td>\n",
              "      <td>72.89</td>\n",
              "      <td>30.13</td>\n",
              "      <td>7.63</td>\n",
              "      <td>9.38</td>\n",
              "      <td>25.40</td>\n",
              "      <td>0.25</td>\n",
              "      <td>NaN</td>\n",
              "      <td>NaN</td>\n",
              "      <td>NaN</td>\n",
              "      <td>NaN</td>\n",
              "      <td>NaN</td>\n",
              "      <td>NaN</td>\n",
              "      <td>0.361465</td>\n",
              "      <td>0.191217</td>\n",
              "      <td>0.079042</td>\n",
              "      <td>0.039514</td>\n",
              "      <td>0.038904</td>\n",
              "      <td>0.351351</td>\n",
              "      <td>0.012998</td>\n",
              "    </tr>\n",
              "    <tr>\n",
              "      <th>88</th>\n",
              "      <td>78.55</td>\n",
              "      <td>59.69</td>\n",
              "      <td>20.72</td>\n",
              "      <td>7.33</td>\n",
              "      <td>9.97</td>\n",
              "      <td>26.50</td>\n",
              "      <td>0.30</td>\n",
              "      <td>NaN</td>\n",
              "      <td>NaN</td>\n",
              "      <td>NaN</td>\n",
              "      <td>NaN</td>\n",
              "      <td>NaN</td>\n",
              "      <td>NaN</td>\n",
              "      <td>0.400071</td>\n",
              "      <td>0.156589</td>\n",
              "      <td>0.054356</td>\n",
              "      <td>0.034902</td>\n",
              "      <td>0.041375</td>\n",
              "      <td>0.425676</td>\n",
              "      <td>0.017331</td>\n",
              "    </tr>\n",
              "    <tr>\n",
              "      <th>89</th>\n",
              "      <td>1.59</td>\n",
              "      <td>0.00</td>\n",
              "      <td>1.04</td>\n",
              "      <td>7.53</td>\n",
              "      <td>1.10</td>\n",
              "      <td>27.40</td>\n",
              "      <td>6.52</td>\n",
              "      <td>NaN</td>\n",
              "      <td>NaN</td>\n",
              "      <td>NaN</td>\n",
              "      <td>NaN</td>\n",
              "      <td>NaN</td>\n",
              "      <td>NaN</td>\n",
              "      <td>0.008098</td>\n",
              "      <td>0.000000</td>\n",
              "      <td>0.002728</td>\n",
              "      <td>0.037977</td>\n",
              "      <td>0.004230</td>\n",
              "      <td>0.486486</td>\n",
              "      <td>0.556326</td>\n",
              "    </tr>\n",
              "    <tr>\n",
              "      <th>90</th>\n",
              "      <td>12.91</td>\n",
              "      <td>53.70</td>\n",
              "      <td>2.26</td>\n",
              "      <td>7.80</td>\n",
              "      <td>1.04</td>\n",
              "      <td>27.40</td>\n",
              "      <td>4.09</td>\n",
              "      <td>NaN</td>\n",
              "      <td>NaN</td>\n",
              "      <td>NaN</td>\n",
              "      <td>NaN</td>\n",
              "      <td>NaN</td>\n",
              "      <td>NaN</td>\n",
              "      <td>0.065753</td>\n",
              "      <td>0.140875</td>\n",
              "      <td>0.005929</td>\n",
              "      <td>0.042128</td>\n",
              "      <td>0.003978</td>\n",
              "      <td>0.486486</td>\n",
              "      <td>0.345754</td>\n",
              "    </tr>\n",
              "    <tr>\n",
              "      <th>91</th>\n",
              "      <td>9.00</td>\n",
              "      <td>0.00</td>\n",
              "      <td>3.00</td>\n",
              "      <td>7.10</td>\n",
              "      <td>0.86</td>\n",
              "      <td>20.50</td>\n",
              "      <td>9.78</td>\n",
              "      <td>NaN</td>\n",
              "      <td>NaN</td>\n",
              "      <td>NaN</td>\n",
              "      <td>NaN</td>\n",
              "      <td>NaN</td>\n",
              "      <td>NaN</td>\n",
              "      <td>0.045839</td>\n",
              "      <td>0.000000</td>\n",
              "      <td>0.007870</td>\n",
              "      <td>0.031365</td>\n",
              "      <td>0.003225</td>\n",
              "      <td>0.020270</td>\n",
              "      <td>0.838821</td>\n",
              "    </tr>\n",
              "  </tbody>\n",
              "</table>\n",
              "<p>92 rows × 20 columns</p>\n",
              "</div>"
            ],
            "text/plain": [
              "      cod     tss    bod    ph  ...        PH   Ammonia      Temp        DO\n",
              "0   26.66   43.22   9.10  7.57  ...  0.038592  0.013903  0.371622  0.583189\n",
              "1   12.39  347.56   0.79  8.04  ...  0.045818  0.002722  0.581081  0.389081\n",
              "2   11.53  108.66   1.16  8.01  ...  0.045357  0.005444  0.461486  0.569324\n",
              "3    9.97   93.68   1.69  7.66  ...  0.039975  0.008041  0.412162  0.666378\n",
              "4   12.45   53.61   0.99  8.00  ...  0.045203  0.025169  0.479730  0.645581\n",
              "..    ...     ...    ...   ...  ...       ...       ...       ...       ...\n",
              "87  70.97   72.89  30.13  7.63  ...  0.039514  0.038904  0.351351  0.012998\n",
              "88  78.55   59.69  20.72  7.33  ...  0.034902  0.041375  0.425676  0.017331\n",
              "89   1.59    0.00   1.04  7.53  ...  0.037977  0.004230  0.486486  0.556326\n",
              "90  12.91   53.70   2.26  7.80  ...  0.042128  0.003978  0.486486  0.345754\n",
              "91   9.00    0.00   3.00  7.10  ...  0.031365  0.003225  0.020270  0.838821\n",
              "\n",
              "[92 rows x 20 columns]"
            ]
          },
          "metadata": {},
          "execution_count": 26
        }
      ]
    },
    {
      "cell_type": "code",
      "metadata": {
        "id": "R8TJwZe-OsAD",
        "colab": {
          "base_uri": "https://localhost:8080/",
          "height": 414
        },
        "outputId": "83d4028a-e21f-45d4-e413-ca9ff2d3407c"
      },
      "source": [
        "dfs=df.round(3)\n",
        "dfs"
      ],
      "execution_count": null,
      "outputs": [
        {
          "output_type": "execute_result",
          "data": {
            "text/html": [
              "<div>\n",
              "<style scoped>\n",
              "    .dataframe tbody tr th:only-of-type {\n",
              "        vertical-align: middle;\n",
              "    }\n",
              "\n",
              "    .dataframe tbody tr th {\n",
              "        vertical-align: top;\n",
              "    }\n",
              "\n",
              "    .dataframe thead th {\n",
              "        text-align: right;\n",
              "    }\n",
              "</style>\n",
              "<table border=\"1\" class=\"dataframe\">\n",
              "  <thead>\n",
              "    <tr style=\"text-align: right;\">\n",
              "      <th></th>\n",
              "      <th>cod</th>\n",
              "      <th>tss</th>\n",
              "      <th>bod</th>\n",
              "      <th>ph</th>\n",
              "      <th>ammonia</th>\n",
              "      <th>temp</th>\n",
              "      <th>do</th>\n",
              "      <th>Unnamed: 7</th>\n",
              "      <th>Unnamed: 8</th>\n",
              "      <th>Unnamed: 9</th>\n",
              "      <th>Unnamed: 10</th>\n",
              "      <th>Unnamed: 11</th>\n",
              "      <th>Unnamed: 12</th>\n",
              "      <th>COD</th>\n",
              "      <th>TSS</th>\n",
              "      <th>BOD</th>\n",
              "      <th>PH</th>\n",
              "      <th>Ammonia</th>\n",
              "      <th>Temp</th>\n",
              "      <th>DO</th>\n",
              "    </tr>\n",
              "  </thead>\n",
              "  <tbody>\n",
              "    <tr>\n",
              "      <th>0</th>\n",
              "      <td>26.66</td>\n",
              "      <td>43.22</td>\n",
              "      <td>9.10</td>\n",
              "      <td>7.57</td>\n",
              "      <td>3.41</td>\n",
              "      <td>25.70</td>\n",
              "      <td>6.83</td>\n",
              "      <td>NaN</td>\n",
              "      <td>NaN</td>\n",
              "      <td>NaN</td>\n",
              "      <td>NaN</td>\n",
              "      <td>NaN</td>\n",
              "      <td>NaN</td>\n",
              "      <td>0.136</td>\n",
              "      <td>0.113</td>\n",
              "      <td>0.024</td>\n",
              "      <td>0.039</td>\n",
              "      <td>0.014</td>\n",
              "      <td>0.372</td>\n",
              "      <td>0.583</td>\n",
              "    </tr>\n",
              "    <tr>\n",
              "      <th>1</th>\n",
              "      <td>12.39</td>\n",
              "      <td>347.56</td>\n",
              "      <td>0.79</td>\n",
              "      <td>8.04</td>\n",
              "      <td>0.74</td>\n",
              "      <td>28.80</td>\n",
              "      <td>4.59</td>\n",
              "      <td>NaN</td>\n",
              "      <td>NaN</td>\n",
              "      <td>NaN</td>\n",
              "      <td>NaN</td>\n",
              "      <td>NaN</td>\n",
              "      <td>NaN</td>\n",
              "      <td>0.063</td>\n",
              "      <td>0.912</td>\n",
              "      <td>0.002</td>\n",
              "      <td>0.046</td>\n",
              "      <td>0.003</td>\n",
              "      <td>0.581</td>\n",
              "      <td>0.389</td>\n",
              "    </tr>\n",
              "    <tr>\n",
              "      <th>2</th>\n",
              "      <td>11.53</td>\n",
              "      <td>108.66</td>\n",
              "      <td>1.16</td>\n",
              "      <td>8.01</td>\n",
              "      <td>1.39</td>\n",
              "      <td>27.03</td>\n",
              "      <td>6.67</td>\n",
              "      <td>NaN</td>\n",
              "      <td>NaN</td>\n",
              "      <td>NaN</td>\n",
              "      <td>NaN</td>\n",
              "      <td>NaN</td>\n",
              "      <td>NaN</td>\n",
              "      <td>0.059</td>\n",
              "      <td>0.285</td>\n",
              "      <td>0.003</td>\n",
              "      <td>0.045</td>\n",
              "      <td>0.005</td>\n",
              "      <td>0.461</td>\n",
              "      <td>0.569</td>\n",
              "    </tr>\n",
              "    <tr>\n",
              "      <th>3</th>\n",
              "      <td>9.97</td>\n",
              "      <td>93.68</td>\n",
              "      <td>1.69</td>\n",
              "      <td>7.66</td>\n",
              "      <td>2.01</td>\n",
              "      <td>26.30</td>\n",
              "      <td>7.79</td>\n",
              "      <td>NaN</td>\n",
              "      <td>NaN</td>\n",
              "      <td>NaN</td>\n",
              "      <td>NaN</td>\n",
              "      <td>NaN</td>\n",
              "      <td>NaN</td>\n",
              "      <td>0.051</td>\n",
              "      <td>0.246</td>\n",
              "      <td>0.004</td>\n",
              "      <td>0.040</td>\n",
              "      <td>0.008</td>\n",
              "      <td>0.412</td>\n",
              "      <td>0.666</td>\n",
              "    </tr>\n",
              "    <tr>\n",
              "      <th>4</th>\n",
              "      <td>12.45</td>\n",
              "      <td>53.61</td>\n",
              "      <td>0.99</td>\n",
              "      <td>8.00</td>\n",
              "      <td>6.10</td>\n",
              "      <td>27.30</td>\n",
              "      <td>7.55</td>\n",
              "      <td>NaN</td>\n",
              "      <td>NaN</td>\n",
              "      <td>NaN</td>\n",
              "      <td>NaN</td>\n",
              "      <td>NaN</td>\n",
              "      <td>NaN</td>\n",
              "      <td>0.063</td>\n",
              "      <td>0.141</td>\n",
              "      <td>0.003</td>\n",
              "      <td>0.045</td>\n",
              "      <td>0.025</td>\n",
              "      <td>0.480</td>\n",
              "      <td>0.646</td>\n",
              "    </tr>\n",
              "    <tr>\n",
              "      <th>...</th>\n",
              "      <td>...</td>\n",
              "      <td>...</td>\n",
              "      <td>...</td>\n",
              "      <td>...</td>\n",
              "      <td>...</td>\n",
              "      <td>...</td>\n",
              "      <td>...</td>\n",
              "      <td>...</td>\n",
              "      <td>...</td>\n",
              "      <td>...</td>\n",
              "      <td>...</td>\n",
              "      <td>...</td>\n",
              "      <td>...</td>\n",
              "      <td>...</td>\n",
              "      <td>...</td>\n",
              "      <td>...</td>\n",
              "      <td>...</td>\n",
              "      <td>...</td>\n",
              "      <td>...</td>\n",
              "      <td>...</td>\n",
              "    </tr>\n",
              "    <tr>\n",
              "      <th>87</th>\n",
              "      <td>70.97</td>\n",
              "      <td>72.89</td>\n",
              "      <td>30.13</td>\n",
              "      <td>7.63</td>\n",
              "      <td>9.38</td>\n",
              "      <td>25.40</td>\n",
              "      <td>0.25</td>\n",
              "      <td>NaN</td>\n",
              "      <td>NaN</td>\n",
              "      <td>NaN</td>\n",
              "      <td>NaN</td>\n",
              "      <td>NaN</td>\n",
              "      <td>NaN</td>\n",
              "      <td>0.361</td>\n",
              "      <td>0.191</td>\n",
              "      <td>0.079</td>\n",
              "      <td>0.040</td>\n",
              "      <td>0.039</td>\n",
              "      <td>0.351</td>\n",
              "      <td>0.013</td>\n",
              "    </tr>\n",
              "    <tr>\n",
              "      <th>88</th>\n",
              "      <td>78.55</td>\n",
              "      <td>59.69</td>\n",
              "      <td>20.72</td>\n",
              "      <td>7.33</td>\n",
              "      <td>9.97</td>\n",
              "      <td>26.50</td>\n",
              "      <td>0.30</td>\n",
              "      <td>NaN</td>\n",
              "      <td>NaN</td>\n",
              "      <td>NaN</td>\n",
              "      <td>NaN</td>\n",
              "      <td>NaN</td>\n",
              "      <td>NaN</td>\n",
              "      <td>0.400</td>\n",
              "      <td>0.157</td>\n",
              "      <td>0.054</td>\n",
              "      <td>0.035</td>\n",
              "      <td>0.041</td>\n",
              "      <td>0.426</td>\n",
              "      <td>0.017</td>\n",
              "    </tr>\n",
              "    <tr>\n",
              "      <th>89</th>\n",
              "      <td>1.59</td>\n",
              "      <td>0.00</td>\n",
              "      <td>1.04</td>\n",
              "      <td>7.53</td>\n",
              "      <td>1.10</td>\n",
              "      <td>27.40</td>\n",
              "      <td>6.52</td>\n",
              "      <td>NaN</td>\n",
              "      <td>NaN</td>\n",
              "      <td>NaN</td>\n",
              "      <td>NaN</td>\n",
              "      <td>NaN</td>\n",
              "      <td>NaN</td>\n",
              "      <td>0.008</td>\n",
              "      <td>0.000</td>\n",
              "      <td>0.003</td>\n",
              "      <td>0.038</td>\n",
              "      <td>0.004</td>\n",
              "      <td>0.486</td>\n",
              "      <td>0.556</td>\n",
              "    </tr>\n",
              "    <tr>\n",
              "      <th>90</th>\n",
              "      <td>12.91</td>\n",
              "      <td>53.70</td>\n",
              "      <td>2.26</td>\n",
              "      <td>7.80</td>\n",
              "      <td>1.04</td>\n",
              "      <td>27.40</td>\n",
              "      <td>4.09</td>\n",
              "      <td>NaN</td>\n",
              "      <td>NaN</td>\n",
              "      <td>NaN</td>\n",
              "      <td>NaN</td>\n",
              "      <td>NaN</td>\n",
              "      <td>NaN</td>\n",
              "      <td>0.066</td>\n",
              "      <td>0.141</td>\n",
              "      <td>0.006</td>\n",
              "      <td>0.042</td>\n",
              "      <td>0.004</td>\n",
              "      <td>0.486</td>\n",
              "      <td>0.346</td>\n",
              "    </tr>\n",
              "    <tr>\n",
              "      <th>91</th>\n",
              "      <td>9.00</td>\n",
              "      <td>0.00</td>\n",
              "      <td>3.00</td>\n",
              "      <td>7.10</td>\n",
              "      <td>0.86</td>\n",
              "      <td>20.50</td>\n",
              "      <td>9.78</td>\n",
              "      <td>NaN</td>\n",
              "      <td>NaN</td>\n",
              "      <td>NaN</td>\n",
              "      <td>NaN</td>\n",
              "      <td>NaN</td>\n",
              "      <td>NaN</td>\n",
              "      <td>0.046</td>\n",
              "      <td>0.000</td>\n",
              "      <td>0.008</td>\n",
              "      <td>0.031</td>\n",
              "      <td>0.003</td>\n",
              "      <td>0.020</td>\n",
              "      <td>0.839</td>\n",
              "    </tr>\n",
              "  </tbody>\n",
              "</table>\n",
              "<p>92 rows × 20 columns</p>\n",
              "</div>"
            ],
            "text/plain": [
              "      cod     tss    bod    ph  ammonia  ...    BOD     PH  Ammonia   Temp     DO\n",
              "0   26.66   43.22   9.10  7.57     3.41  ...  0.024  0.039    0.014  0.372  0.583\n",
              "1   12.39  347.56   0.79  8.04     0.74  ...  0.002  0.046    0.003  0.581  0.389\n",
              "2   11.53  108.66   1.16  8.01     1.39  ...  0.003  0.045    0.005  0.461  0.569\n",
              "3    9.97   93.68   1.69  7.66     2.01  ...  0.004  0.040    0.008  0.412  0.666\n",
              "4   12.45   53.61   0.99  8.00     6.10  ...  0.003  0.045    0.025  0.480  0.646\n",
              "..    ...     ...    ...   ...      ...  ...    ...    ...      ...    ...    ...\n",
              "87  70.97   72.89  30.13  7.63     9.38  ...  0.079  0.040    0.039  0.351  0.013\n",
              "88  78.55   59.69  20.72  7.33     9.97  ...  0.054  0.035    0.041  0.426  0.017\n",
              "89   1.59    0.00   1.04  7.53     1.10  ...  0.003  0.038    0.004  0.486  0.556\n",
              "90  12.91   53.70   2.26  7.80     1.04  ...  0.006  0.042    0.004  0.486  0.346\n",
              "91   9.00    0.00   3.00  7.10     0.86  ...  0.008  0.031    0.003  0.020  0.839\n",
              "\n",
              "[92 rows x 20 columns]"
            ]
          },
          "metadata": {},
          "execution_count": 27
        }
      ]
    },
    {
      "cell_type": "code",
      "metadata": {
        "colab": {
          "base_uri": "https://localhost:8080/",
          "height": 414
        },
        "id": "JZQuoXVawWIs",
        "outputId": "21c9ac27-0eea-48af-d15c-f9072878c80a"
      },
      "source": [
        "#Droping the columns\n",
        "dfs=dfs.drop([\"cod\",\"tss\",\"bod\",\"ph\",\"ammonia\",\"temp\",\"do\",\"Unnamed: 7\",\"Unnamed: 8\",\"Unnamed: 9\",\"Unnamed: 10\",\"Unnamed: 11\",\"Unnamed: 12\"], axis=1)\n",
        "dfs"
      ],
      "execution_count": null,
      "outputs": [
        {
          "output_type": "execute_result",
          "data": {
            "text/html": [
              "<div>\n",
              "<style scoped>\n",
              "    .dataframe tbody tr th:only-of-type {\n",
              "        vertical-align: middle;\n",
              "    }\n",
              "\n",
              "    .dataframe tbody tr th {\n",
              "        vertical-align: top;\n",
              "    }\n",
              "\n",
              "    .dataframe thead th {\n",
              "        text-align: right;\n",
              "    }\n",
              "</style>\n",
              "<table border=\"1\" class=\"dataframe\">\n",
              "  <thead>\n",
              "    <tr style=\"text-align: right;\">\n",
              "      <th></th>\n",
              "      <th>COD</th>\n",
              "      <th>TSS</th>\n",
              "      <th>BOD</th>\n",
              "      <th>PH</th>\n",
              "      <th>Ammonia</th>\n",
              "      <th>Temp</th>\n",
              "      <th>DO</th>\n",
              "    </tr>\n",
              "  </thead>\n",
              "  <tbody>\n",
              "    <tr>\n",
              "      <th>0</th>\n",
              "      <td>0.136</td>\n",
              "      <td>0.113</td>\n",
              "      <td>0.024</td>\n",
              "      <td>0.039</td>\n",
              "      <td>0.014</td>\n",
              "      <td>0.372</td>\n",
              "      <td>0.583</td>\n",
              "    </tr>\n",
              "    <tr>\n",
              "      <th>1</th>\n",
              "      <td>0.063</td>\n",
              "      <td>0.912</td>\n",
              "      <td>0.002</td>\n",
              "      <td>0.046</td>\n",
              "      <td>0.003</td>\n",
              "      <td>0.581</td>\n",
              "      <td>0.389</td>\n",
              "    </tr>\n",
              "    <tr>\n",
              "      <th>2</th>\n",
              "      <td>0.059</td>\n",
              "      <td>0.285</td>\n",
              "      <td>0.003</td>\n",
              "      <td>0.045</td>\n",
              "      <td>0.005</td>\n",
              "      <td>0.461</td>\n",
              "      <td>0.569</td>\n",
              "    </tr>\n",
              "    <tr>\n",
              "      <th>3</th>\n",
              "      <td>0.051</td>\n",
              "      <td>0.246</td>\n",
              "      <td>0.004</td>\n",
              "      <td>0.040</td>\n",
              "      <td>0.008</td>\n",
              "      <td>0.412</td>\n",
              "      <td>0.666</td>\n",
              "    </tr>\n",
              "    <tr>\n",
              "      <th>4</th>\n",
              "      <td>0.063</td>\n",
              "      <td>0.141</td>\n",
              "      <td>0.003</td>\n",
              "      <td>0.045</td>\n",
              "      <td>0.025</td>\n",
              "      <td>0.480</td>\n",
              "      <td>0.646</td>\n",
              "    </tr>\n",
              "    <tr>\n",
              "      <th>...</th>\n",
              "      <td>...</td>\n",
              "      <td>...</td>\n",
              "      <td>...</td>\n",
              "      <td>...</td>\n",
              "      <td>...</td>\n",
              "      <td>...</td>\n",
              "      <td>...</td>\n",
              "    </tr>\n",
              "    <tr>\n",
              "      <th>87</th>\n",
              "      <td>0.361</td>\n",
              "      <td>0.191</td>\n",
              "      <td>0.079</td>\n",
              "      <td>0.040</td>\n",
              "      <td>0.039</td>\n",
              "      <td>0.351</td>\n",
              "      <td>0.013</td>\n",
              "    </tr>\n",
              "    <tr>\n",
              "      <th>88</th>\n",
              "      <td>0.400</td>\n",
              "      <td>0.157</td>\n",
              "      <td>0.054</td>\n",
              "      <td>0.035</td>\n",
              "      <td>0.041</td>\n",
              "      <td>0.426</td>\n",
              "      <td>0.017</td>\n",
              "    </tr>\n",
              "    <tr>\n",
              "      <th>89</th>\n",
              "      <td>0.008</td>\n",
              "      <td>0.000</td>\n",
              "      <td>0.003</td>\n",
              "      <td>0.038</td>\n",
              "      <td>0.004</td>\n",
              "      <td>0.486</td>\n",
              "      <td>0.556</td>\n",
              "    </tr>\n",
              "    <tr>\n",
              "      <th>90</th>\n",
              "      <td>0.066</td>\n",
              "      <td>0.141</td>\n",
              "      <td>0.006</td>\n",
              "      <td>0.042</td>\n",
              "      <td>0.004</td>\n",
              "      <td>0.486</td>\n",
              "      <td>0.346</td>\n",
              "    </tr>\n",
              "    <tr>\n",
              "      <th>91</th>\n",
              "      <td>0.046</td>\n",
              "      <td>0.000</td>\n",
              "      <td>0.008</td>\n",
              "      <td>0.031</td>\n",
              "      <td>0.003</td>\n",
              "      <td>0.020</td>\n",
              "      <td>0.839</td>\n",
              "    </tr>\n",
              "  </tbody>\n",
              "</table>\n",
              "<p>92 rows × 7 columns</p>\n",
              "</div>"
            ],
            "text/plain": [
              "      COD    TSS    BOD     PH  Ammonia   Temp     DO\n",
              "0   0.136  0.113  0.024  0.039    0.014  0.372  0.583\n",
              "1   0.063  0.912  0.002  0.046    0.003  0.581  0.389\n",
              "2   0.059  0.285  0.003  0.045    0.005  0.461  0.569\n",
              "3   0.051  0.246  0.004  0.040    0.008  0.412  0.666\n",
              "4   0.063  0.141  0.003  0.045    0.025  0.480  0.646\n",
              "..    ...    ...    ...    ...      ...    ...    ...\n",
              "87  0.361  0.191  0.079  0.040    0.039  0.351  0.013\n",
              "88  0.400  0.157  0.054  0.035    0.041  0.426  0.017\n",
              "89  0.008  0.000  0.003  0.038    0.004  0.486  0.556\n",
              "90  0.066  0.141  0.006  0.042    0.004  0.486  0.346\n",
              "91  0.046  0.000  0.008  0.031    0.003  0.020  0.839\n",
              "\n",
              "[92 rows x 7 columns]"
            ]
          },
          "metadata": {},
          "execution_count": 28
        }
      ]
    },
    {
      "cell_type": "code",
      "metadata": {
        "colab": {
          "base_uri": "https://localhost:8080/"
        },
        "id": "b0xbDBNzyYo_",
        "outputId": "8b39780c-3678-426d-899f-2b7beae8359b"
      },
      "source": [
        "#Cheking the dimension of the dataset\n",
        "dfs.shape"
      ],
      "execution_count": null,
      "outputs": [
        {
          "output_type": "execute_result",
          "data": {
            "text/plain": [
              "(92, 7)"
            ]
          },
          "metadata": {},
          "execution_count": 10
        }
      ]
    },
    {
      "cell_type": "code",
      "metadata": {
        "colab": {
          "base_uri": "https://localhost:8080/",
          "height": 294
        },
        "id": "XUC8JPo-yYpB",
        "outputId": "dc3a779f-9a38-400d-fd4d-ba72da72834a"
      },
      "source": [
        "#Checking the Summary of the dataset\n",
        "dfs.describe()"
      ],
      "execution_count": null,
      "outputs": [
        {
          "output_type": "execute_result",
          "data": {
            "text/html": [
              "<div>\n",
              "<style scoped>\n",
              "    .dataframe tbody tr th:only-of-type {\n",
              "        vertical-align: middle;\n",
              "    }\n",
              "\n",
              "    .dataframe tbody tr th {\n",
              "        vertical-align: top;\n",
              "    }\n",
              "\n",
              "    .dataframe thead th {\n",
              "        text-align: right;\n",
              "    }\n",
              "</style>\n",
              "<table border=\"1\" class=\"dataframe\">\n",
              "  <thead>\n",
              "    <tr style=\"text-align: right;\">\n",
              "      <th></th>\n",
              "      <th>COD</th>\n",
              "      <th>TSS</th>\n",
              "      <th>BOD</th>\n",
              "      <th>PH</th>\n",
              "      <th>Ammonia</th>\n",
              "      <th>Temp</th>\n",
              "      <th>DO</th>\n",
              "    </tr>\n",
              "  </thead>\n",
              "  <tbody>\n",
              "    <tr>\n",
              "      <th>count</th>\n",
              "      <td>92.000000</td>\n",
              "      <td>92.000000</td>\n",
              "      <td>92.000000</td>\n",
              "      <td>92.000000</td>\n",
              "      <td>92.000000</td>\n",
              "      <td>92.000000</td>\n",
              "      <td>92.000000</td>\n",
              "    </tr>\n",
              "    <tr>\n",
              "      <th>mean</th>\n",
              "      <td>0.140152</td>\n",
              "      <td>0.165522</td>\n",
              "      <td>0.017967</td>\n",
              "      <td>0.049424</td>\n",
              "      <td>0.026739</td>\n",
              "      <td>0.478217</td>\n",
              "      <td>0.469163</td>\n",
              "    </tr>\n",
              "    <tr>\n",
              "      <th>std</th>\n",
              "      <td>0.194348</td>\n",
              "      <td>0.227967</td>\n",
              "      <td>0.025719</td>\n",
              "      <td>0.100698</td>\n",
              "      <td>0.107351</td>\n",
              "      <td>0.245156</td>\n",
              "      <td>0.251125</td>\n",
              "    </tr>\n",
              "    <tr>\n",
              "      <th>min</th>\n",
              "      <td>0.000000</td>\n",
              "      <td>0.000000</td>\n",
              "      <td>0.001000</td>\n",
              "      <td>0.000000</td>\n",
              "      <td>0.000000</td>\n",
              "      <td>0.000000</td>\n",
              "      <td>0.000000</td>\n",
              "    </tr>\n",
              "    <tr>\n",
              "      <th>25%</th>\n",
              "      <td>0.046000</td>\n",
              "      <td>0.024000</td>\n",
              "      <td>0.004000</td>\n",
              "      <td>0.033750</td>\n",
              "      <td>0.001000</td>\n",
              "      <td>0.248250</td>\n",
              "      <td>0.346000</td>\n",
              "    </tr>\n",
              "    <tr>\n",
              "      <th>50%</th>\n",
              "      <td>0.046500</td>\n",
              "      <td>0.041000</td>\n",
              "      <td>0.008000</td>\n",
              "      <td>0.041000</td>\n",
              "      <td>0.004000</td>\n",
              "      <td>0.480000</td>\n",
              "      <td>0.509000</td>\n",
              "    </tr>\n",
              "    <tr>\n",
              "      <th>75%</th>\n",
              "      <td>0.115250</td>\n",
              "      <td>0.233250</td>\n",
              "      <td>0.011500</td>\n",
              "      <td>0.044000</td>\n",
              "      <td>0.021000</td>\n",
              "      <td>0.677500</td>\n",
              "      <td>0.655000</td>\n",
              "    </tr>\n",
              "    <tr>\n",
              "      <th>max</th>\n",
              "      <td>1.000000</td>\n",
              "      <td>1.000000</td>\n",
              "      <td>0.113000</td>\n",
              "      <td>1.000000</td>\n",
              "      <td>1.000000</td>\n",
              "      <td>1.000000</td>\n",
              "      <td>1.000000</td>\n",
              "    </tr>\n",
              "  </tbody>\n",
              "</table>\n",
              "</div>"
            ],
            "text/plain": [
              "             COD        TSS        BOD  ...    Ammonia       Temp         DO\n",
              "count  92.000000  92.000000  92.000000  ...  92.000000  92.000000  92.000000\n",
              "mean    0.140152   0.165522   0.017967  ...   0.026739   0.478217   0.469163\n",
              "std     0.194348   0.227967   0.025719  ...   0.107351   0.245156   0.251125\n",
              "min     0.000000   0.000000   0.001000  ...   0.000000   0.000000   0.000000\n",
              "25%     0.046000   0.024000   0.004000  ...   0.001000   0.248250   0.346000\n",
              "50%     0.046500   0.041000   0.008000  ...   0.004000   0.480000   0.509000\n",
              "75%     0.115250   0.233250   0.011500  ...   0.021000   0.677500   0.655000\n",
              "max     1.000000   1.000000   0.113000  ...   1.000000   1.000000   1.000000\n",
              "\n",
              "[8 rows x 7 columns]"
            ]
          },
          "metadata": {},
          "execution_count": 11
        }
      ]
    },
    {
      "cell_type": "code",
      "metadata": {
        "colab": {
          "base_uri": "https://localhost:8080/"
        },
        "id": "BfRbhfigyYpH",
        "outputId": "6ecbf5d0-cbd2-44c7-f88c-b30ceff0ab97"
      },
      "source": [
        "dfs.columns"
      ],
      "execution_count": null,
      "outputs": [
        {
          "output_type": "execute_result",
          "data": {
            "text/plain": [
              "Index(['COD', 'TSS', 'BOD', 'PH', 'Ammonia', 'Temp', 'DO'], dtype='object')"
            ]
          },
          "metadata": {},
          "execution_count": 12
        }
      ]
    },
    {
      "cell_type": "code",
      "metadata": {
        "colab": {
          "base_uri": "https://localhost:8080/"
        },
        "id": "0IAPips3yYpD",
        "outputId": "116f1d65-da9e-4ea7-cad8-348175850775"
      },
      "source": [
        "#Checking the data types in the dataset\n",
        "dfs.info()"
      ],
      "execution_count": null,
      "outputs": [
        {
          "output_type": "stream",
          "name": "stdout",
          "text": [
            "<class 'pandas.core.frame.DataFrame'>\n",
            "RangeIndex: 92 entries, 0 to 91\n",
            "Data columns (total 7 columns):\n",
            " #   Column   Non-Null Count  Dtype  \n",
            "---  ------   --------------  -----  \n",
            " 0   COD      92 non-null     float64\n",
            " 1   TSS      92 non-null     float64\n",
            " 2   BOD      92 non-null     float64\n",
            " 3   PH       92 non-null     float64\n",
            " 4   Ammonia  92 non-null     float64\n",
            " 5   Temp     92 non-null     float64\n",
            " 6   DO       92 non-null     float64\n",
            "dtypes: float64(7)\n",
            "memory usage: 5.2 KB\n"
          ]
        }
      ]
    },
    {
      "cell_type": "code",
      "metadata": {
        "colab": {
          "base_uri": "https://localhost:8080/"
        },
        "id": "1zxGYYP0yYpE",
        "outputId": "867cf691-bd95-45b7-b606-ccd61730950e"
      },
      "source": [
        "#Checking the missing value or null value in the dataset\n",
        "dfs.isnull().sum()"
      ],
      "execution_count": null,
      "outputs": [
        {
          "output_type": "execute_result",
          "data": {
            "text/plain": [
              "COD        0\n",
              "TSS        0\n",
              "BOD        0\n",
              "PH         0\n",
              "Ammonia    0\n",
              "Temp       0\n",
              "DO         0\n",
              "dtype: int64"
            ]
          },
          "metadata": {},
          "execution_count": 14
        }
      ]
    },
    {
      "cell_type": "code",
      "metadata": {
        "colab": {
          "base_uri": "https://localhost:8080/",
          "height": 263
        },
        "id": "e5PXPtsjyYpF",
        "outputId": "0a250f9b-450d-42a7-96ac-ef4966ddce4f"
      },
      "source": [
        "#Checking the correlation of the dataset\n",
        "dfs.corr()"
      ],
      "execution_count": null,
      "outputs": [
        {
          "output_type": "execute_result",
          "data": {
            "text/html": [
              "<div>\n",
              "<style scoped>\n",
              "    .dataframe tbody tr th:only-of-type {\n",
              "        vertical-align: middle;\n",
              "    }\n",
              "\n",
              "    .dataframe tbody tr th {\n",
              "        vertical-align: top;\n",
              "    }\n",
              "\n",
              "    .dataframe thead th {\n",
              "        text-align: right;\n",
              "    }\n",
              "</style>\n",
              "<table border=\"1\" class=\"dataframe\">\n",
              "  <thead>\n",
              "    <tr style=\"text-align: right;\">\n",
              "      <th></th>\n",
              "      <th>COD</th>\n",
              "      <th>TSS</th>\n",
              "      <th>BOD</th>\n",
              "      <th>PH</th>\n",
              "      <th>Ammonia</th>\n",
              "      <th>Temp</th>\n",
              "      <th>DO</th>\n",
              "    </tr>\n",
              "  </thead>\n",
              "  <tbody>\n",
              "    <tr>\n",
              "      <th>COD</th>\n",
              "      <td>1.000000</td>\n",
              "      <td>0.619535</td>\n",
              "      <td>0.955824</td>\n",
              "      <td>-0.060851</td>\n",
              "      <td>0.234345</td>\n",
              "      <td>-0.039825</td>\n",
              "      <td>-0.647668</td>\n",
              "    </tr>\n",
              "    <tr>\n",
              "      <th>TSS</th>\n",
              "      <td>0.619535</td>\n",
              "      <td>1.000000</td>\n",
              "      <td>0.514774</td>\n",
              "      <td>-0.066838</td>\n",
              "      <td>0.222838</td>\n",
              "      <td>0.171067</td>\n",
              "      <td>-0.420130</td>\n",
              "    </tr>\n",
              "    <tr>\n",
              "      <th>BOD</th>\n",
              "      <td>0.955824</td>\n",
              "      <td>0.514774</td>\n",
              "      <td>1.000000</td>\n",
              "      <td>-0.054010</td>\n",
              "      <td>0.213624</td>\n",
              "      <td>-0.062334</td>\n",
              "      <td>-0.658453</td>\n",
              "    </tr>\n",
              "    <tr>\n",
              "      <th>PH</th>\n",
              "      <td>-0.060851</td>\n",
              "      <td>-0.066838</td>\n",
              "      <td>-0.054010</td>\n",
              "      <td>1.000000</td>\n",
              "      <td>-0.065403</td>\n",
              "      <td>0.211546</td>\n",
              "      <td>0.007347</td>\n",
              "    </tr>\n",
              "    <tr>\n",
              "      <th>Ammonia</th>\n",
              "      <td>0.234345</td>\n",
              "      <td>0.222838</td>\n",
              "      <td>0.213624</td>\n",
              "      <td>-0.065403</td>\n",
              "      <td>1.000000</td>\n",
              "      <td>0.091057</td>\n",
              "      <td>-0.109809</td>\n",
              "    </tr>\n",
              "    <tr>\n",
              "      <th>Temp</th>\n",
              "      <td>-0.039825</td>\n",
              "      <td>0.171067</td>\n",
              "      <td>-0.062334</td>\n",
              "      <td>0.211546</td>\n",
              "      <td>0.091057</td>\n",
              "      <td>1.000000</td>\n",
              "      <td>-0.190648</td>\n",
              "    </tr>\n",
              "    <tr>\n",
              "      <th>DO</th>\n",
              "      <td>-0.647668</td>\n",
              "      <td>-0.420130</td>\n",
              "      <td>-0.658453</td>\n",
              "      <td>0.007347</td>\n",
              "      <td>-0.109809</td>\n",
              "      <td>-0.190648</td>\n",
              "      <td>1.000000</td>\n",
              "    </tr>\n",
              "  </tbody>\n",
              "</table>\n",
              "</div>"
            ],
            "text/plain": [
              "              COD       TSS       BOD        PH   Ammonia      Temp        DO\n",
              "COD      1.000000  0.619535  0.955824 -0.060851  0.234345 -0.039825 -0.647668\n",
              "TSS      0.619535  1.000000  0.514774 -0.066838  0.222838  0.171067 -0.420130\n",
              "BOD      0.955824  0.514774  1.000000 -0.054010  0.213624 -0.062334 -0.658453\n",
              "PH      -0.060851 -0.066838 -0.054010  1.000000 -0.065403  0.211546  0.007347\n",
              "Ammonia  0.234345  0.222838  0.213624 -0.065403  1.000000  0.091057 -0.109809\n",
              "Temp    -0.039825  0.171067 -0.062334  0.211546  0.091057  1.000000 -0.190648\n",
              "DO      -0.647668 -0.420130 -0.658453  0.007347 -0.109809 -0.190648  1.000000"
            ]
          },
          "metadata": {},
          "execution_count": 15
        }
      ]
    },
    {
      "cell_type": "code",
      "metadata": {
        "colab": {
          "base_uri": "https://localhost:8080/",
          "height": 286
        },
        "id": "GrAooPRpyYpG",
        "outputId": "bdcc1a63-c955-4d9a-82e1-e04f60039272"
      },
      "source": [
        "#Cheking the Co relation of the dataset using heatmap diagram\n",
        "sns.heatmap(dfs.corr(),annot=True,fmt='.1f')"
      ],
      "execution_count": null,
      "outputs": [
        {
          "output_type": "execute_result",
          "data": {
            "text/plain": [
              "<matplotlib.axes._subplots.AxesSubplot at 0x7efe1e9537d0>"
            ]
          },
          "metadata": {},
          "execution_count": 16
        },
        {
          "output_type": "display_data",
          "data": {
            "image/png": "[encoded data removed]",
            "text/plain": [
              "<Figure size 432x288 with 2 Axes>"
            ]
          },
          "metadata": {
            "needs_background": "light"
          }
        }
      ]
    },
    {
      "cell_type": "code",
      "metadata": {
        "id": "PwT9sVqLyYpJ",
        "colab": {
          "base_uri": "https://localhost:8080/",
          "height": 268
        },
        "outputId": "41f2e369-1115-4b21-8c6e-59affc689a1a"
      },
      "source": [
        "#Pairplot w.r.t COD\n",
        "sns.pairplot(dfs, x_vars=['BOD', 'DO','Temp','TSS','Ammonia'], y_vars='COD',size=3, aspect=1, kind='scatter')\n",
        "plt.show()"
      ],
      "execution_count": null,
      "outputs": [
        {
          "output_type": "stream",
          "name": "stderr",
          "text": [
            "/usr/local/lib/python3.7/dist-packages/seaborn/axisgrid.py:2076: UserWarning: The `size` parameter has been renamed to `height`; please update your code.\n",
            "  warnings.warn(msg, UserWarning)\n"
          ]
        },
        {
          "output_type": "display_data",
          "data": {
            "image/png": "[encoded data removed]",
            "text/plain": [
              "<Figure size 1080x216 with 5 Axes>"
            ]
          },
          "metadata": {
            "needs_background": "light"
          }
        }
      ]
    },
    {
      "cell_type": "code",
      "metadata": {
        "id": "0uIww7MMyYpK",
        "colab": {
          "base_uri": "https://localhost:8080/",
          "height": 458
        },
        "outputId": "973f9ea0-d402-4b3d-f297-36d929fccee9"
      },
      "source": [
        "sns.jointplot(x='BOD',y='COD',data=dfs,kind='scatter')"
      ],
      "execution_count": null,
      "outputs": [
        {
          "output_type": "execute_result",
          "data": {
            "text/plain": [
              "<seaborn.axisgrid.JointGrid at 0x7efe15caf490>"
            ]
          },
          "metadata": {},
          "execution_count": 20
        },
        {
          "output_type": "display_data",
          "data": {
            "image/png": "[encoded data removed]",
            "text/plain": [
              "<Figure size 432x432 with 3 Axes>"
            ]
          },
          "metadata": {
            "needs_background": "light"
          }
        }
      ]
    },
    {
      "cell_type": "code",
      "metadata": {
        "colab": {
          "base_uri": "https://localhost:8080/",
          "height": 458
        },
        "id": "TIW1UEL-qAro",
        "outputId": "35fa01f2-8a94-4d27-d431-4dccea794330"
      },
      "source": [
        "sns.jointplot(x='BOD',y='COD',data=dfs,kind='hex')"
      ],
      "execution_count": null,
      "outputs": [
        {
          "output_type": "execute_result",
          "data": {
            "text/plain": [
              "<seaborn.axisgrid.JointGrid at 0x7efe14afcb50>"
            ]
          },
          "metadata": {},
          "execution_count": 21
        },
        {
          "output_type": "display_data",
          "data": {
            "image/png": "[encoded data removed]",
            "text/plain": [
              "<Figure size 432x432 with 3 Axes>"
            ]
          },
          "metadata": {
            "needs_background": "light"
          }
        }
      ]
    },
    {
      "cell_type": "code",
      "metadata": {
        "id": "l5LEWnuryYpL",
        "colab": {
          "base_uri": "https://localhost:8080/",
          "height": 282
        },
        "outputId": "3fc29641-a0f8-4f2e-a6af-b3370c890308"
      },
      "source": [
        "#visiualize the COD  frequency\n",
        "dfs['COD'].hist().plot()"
      ],
      "execution_count": null,
      "outputs": [
        {
          "output_type": "execute_result",
          "data": {
            "text/plain": [
              "[]"
            ]
          },
          "metadata": {},
          "execution_count": 22
        },
        {
          "output_type": "display_data",
          "data": {
            "image/png": "[encoded data removed]",
            "text/plain": [
              "<Figure size 432x288 with 1 Axes>"
            ]
          },
          "metadata": {
            "needs_background": "light"
          }
        }
      ]
    },
    {
      "cell_type": "code",
      "metadata": {
        "id": "Gn8IjCgHyYpL",
        "colab": {
          "base_uri": "https://localhost:8080/",
          "height": 302
        },
        "outputId": "191ef803-2f39-4e26-cadf-bb9d2a30ec54"
      },
      "source": [
        "# plotting the bar plot of frequencies\n",
        "dfs['COD'].value_counts().plot.bar()"
      ],
      "execution_count": null,
      "outputs": [
        {
          "output_type": "execute_result",
          "data": {
            "text/plain": [
              "<matplotlib.axes._subplots.AxesSubplot at 0x7efe162c0a90>"
            ]
          },
          "metadata": {},
          "execution_count": 23
        },
        {
          "output_type": "display_data",
          "data": {
            "image/png": "[encoded data removed]",
            "text/plain": [
              "<Figure size 432x288 with 1 Axes>"
            ]
          },
          "metadata": {
            "needs_background": "light"
          }
        }
      ]
    },
    {
      "cell_type": "code",
      "metadata": {
        "id": "hRIhN4wvyYpM"
      },
      "source": [
        ""
      ],
      "execution_count": null,
      "outputs": []
    },
    {
      "cell_type": "code",
      "metadata": {
        "colab": {
          "base_uri": "https://localhost:8080/",
          "height": 423
        },
        "id": "mantJ8iNyYpM",
        "outputId": "cd5fe7f6-eeca-470b-e4b8-3b4f3169790d"
      },
      "source": [
        "#Taking the independent Parameters of the dataset\n",
        "X=df.iloc[:,:4]\n",
        "X"
      ],
      "execution_count": null,
      "outputs": [
        {
          "output_type": "execute_result",
          "data": {
            "text/html": [
              "<div>\n",
              "<style scoped>\n",
              "    .dataframe tbody tr th:only-of-type {\n",
              "        vertical-align: middle;\n",
              "    }\n",
              "\n",
              "    .dataframe tbody tr th {\n",
              "        vertical-align: top;\n",
              "    }\n",
              "\n",
              "    .dataframe thead th {\n",
              "        text-align: right;\n",
              "    }\n",
              "</style>\n",
              "<table border=\"1\" class=\"dataframe\">\n",
              "  <thead>\n",
              "    <tr style=\"text-align: right;\">\n",
              "      <th></th>\n",
              "      <th>BOD(mg/l)</th>\n",
              "      <th>AMMONIA(mg/l)</th>\n",
              "      <th>TSS(mg/l)</th>\n",
              "      <th>NITRATE(mg/l)</th>\n",
              "    </tr>\n",
              "  </thead>\n",
              "  <tbody>\n",
              "    <tr>\n",
              "      <th>0</th>\n",
              "      <td>3.00</td>\n",
              "      <td>1.10</td>\n",
              "      <td>9.00</td>\n",
              "      <td>0.69</td>\n",
              "    </tr>\n",
              "    <tr>\n",
              "      <th>1</th>\n",
              "      <td>1.20</td>\n",
              "      <td>0.27</td>\n",
              "      <td>9.00</td>\n",
              "      <td>0.74</td>\n",
              "    </tr>\n",
              "    <tr>\n",
              "      <th>2</th>\n",
              "      <td>0.59</td>\n",
              "      <td>1.10</td>\n",
              "      <td>9.00</td>\n",
              "      <td>2.40</td>\n",
              "    </tr>\n",
              "    <tr>\n",
              "      <th>3</th>\n",
              "      <td>2.26</td>\n",
              "      <td>1.04</td>\n",
              "      <td>53.70</td>\n",
              "      <td>1.42</td>\n",
              "    </tr>\n",
              "    <tr>\n",
              "      <th>4</th>\n",
              "      <td>2.40</td>\n",
              "      <td>5.04</td>\n",
              "      <td>22.17</td>\n",
              "      <td>1.70</td>\n",
              "    </tr>\n",
              "    <tr>\n",
              "      <th>...</th>\n",
              "      <td>...</td>\n",
              "      <td>...</td>\n",
              "      <td>...</td>\n",
              "      <td>...</td>\n",
              "    </tr>\n",
              "    <tr>\n",
              "      <th>56</th>\n",
              "      <td>20.72</td>\n",
              "      <td>9.97</td>\n",
              "      <td>59.69</td>\n",
              "      <td>5.79</td>\n",
              "    </tr>\n",
              "    <tr>\n",
              "      <th>57</th>\n",
              "      <td>0.20</td>\n",
              "      <td>0.00</td>\n",
              "      <td>0.00</td>\n",
              "      <td>1.08</td>\n",
              "    </tr>\n",
              "    <tr>\n",
              "      <th>58</th>\n",
              "      <td>1.04</td>\n",
              "      <td>1.10</td>\n",
              "      <td>0.00</td>\n",
              "      <td>1.39</td>\n",
              "    </tr>\n",
              "    <tr>\n",
              "      <th>59</th>\n",
              "      <td>2.26</td>\n",
              "      <td>1.04</td>\n",
              "      <td>53.70</td>\n",
              "      <td>1.42</td>\n",
              "    </tr>\n",
              "    <tr>\n",
              "      <th>60</th>\n",
              "      <td>3.00</td>\n",
              "      <td>0.86</td>\n",
              "      <td>0.00</td>\n",
              "      <td>0.00</td>\n",
              "    </tr>\n",
              "  </tbody>\n",
              "</table>\n",
              "<p>61 rows × 4 columns</p>\n",
              "</div>"
            ],
            "text/plain": [
              "    BOD(mg/l)  AMMONIA(mg/l)  TSS(mg/l)  NITRATE(mg/l)\n",
              "0        3.00           1.10       9.00           0.69\n",
              "1        1.20           0.27       9.00           0.74\n",
              "2        0.59           1.10       9.00           2.40\n",
              "3        2.26           1.04      53.70           1.42\n",
              "4        2.40           5.04      22.17           1.70\n",
              "..        ...            ...        ...            ...\n",
              "56      20.72           9.97      59.69           5.79\n",
              "57       0.20           0.00       0.00           1.08\n",
              "58       1.04           1.10       0.00           1.39\n",
              "59       2.26           1.04      53.70           1.42\n",
              "60       3.00           0.86       0.00           0.00\n",
              "\n",
              "[61 rows x 4 columns]"
            ]
          },
          "metadata": {},
          "execution_count": 5
        }
      ]
    },
    {
      "cell_type": "code",
      "metadata": {
        "colab": {
          "base_uri": "https://localhost:8080/"
        },
        "id": "vOGf0fLIyYpN",
        "outputId": "5d0d607b-4dec-45e0-ea7d-7d1a346d5f18"
      },
      "source": [
        "#Taking the Target parameters of the dataset\n",
        "y=df.iloc[:,-1]\n",
        "y"
      ],
      "execution_count": null,
      "outputs": [
        {
          "output_type": "execute_result",
          "data": {
            "text/plain": [
              "0      9.00\n",
              "1      7.04\n",
              "2      9.00\n",
              "3     12.91\n",
              "4     12.89\n",
              "      ...  \n",
              "56    78.55\n",
              "57     0.00\n",
              "58     1.59\n",
              "59    12.91\n",
              "60     9.00\n",
              "Name: COD(mg/l), Length: 61, dtype: float64"
            ]
          },
          "metadata": {},
          "execution_count": 6
        }
      ]
    },
    {
      "cell_type": "code",
      "metadata": {
        "id": "brwiVnefyYpO"
      },
      "source": [
        "#Tarining and testing the data\n",
        "from sklearn.model_selection import train_test_split"
      ],
      "execution_count": null,
      "outputs": []
    },
    {
      "cell_type": "code",
      "metadata": {
        "id": "RHXbsSeNyYpO"
      },
      "source": [
        "X_train, X_test, y_train, y_test = train_test_split(X,y,train_size=0.6,random_state=1)"
      ],
      "execution_count": null,
      "outputs": []
    },
    {
      "cell_type": "markdown",
      "metadata": {
        "id": "MIPe3tlAyYpP"
      },
      "source": [
        "# Linear Regression"
      ]
    },
    {
      "cell_type": "code",
      "metadata": {
        "colab": {
          "base_uri": "https://localhost:8080/"
        },
        "id": "M4qaud9TyYpP",
        "outputId": "8ba36ae2-749a-4b90-e51b-d9cc70168657"
      },
      "source": [
        "from sklearn.linear_model import LinearRegression\n",
        "from sklearn import metrics\n",
        "regressor = LinearRegression()  \n",
        "regressor.fit(X_train, y_train) #training the algorithm"
      ],
      "execution_count": null,
      "outputs": [
        {
          "output_type": "execute_result",
          "data": {
            "text/plain": [
              "LinearRegression(copy_X=True, fit_intercept=True, n_jobs=None, normalize=False)"
            ]
          },
          "metadata": {},
          "execution_count": 102
        }
      ]
    },
    {
      "cell_type": "code",
      "metadata": {
        "colab": {
          "base_uri": "https://localhost:8080/"
        },
        "id": "bTo3gt5xyYpQ",
        "outputId": "af726a18-6438-4d69-dc60-f812d057b9aa"
      },
      "source": [
        "y_pred = regressor.predict(X_test)\n",
        "y_pred"
      ],
      "execution_count": null,
      "outputs": [
        {
          "output_type": "execute_result",
          "data": {
            "text/plain": [
              "array([ 66.40742821,   5.56974869,   6.23603756,   3.67294732,\n",
              "        13.87556787,  13.87556787,   6.23603756,   7.38805544,\n",
              "         7.04156345, 112.41070555,  13.03809568,  50.88029661,\n",
              "         4.09010387,   7.4007578 ,  13.87556787,   7.4007578 ,\n",
              "         6.98816772,   7.40089908,   7.56206551,   5.56974869,\n",
              "         6.6243    ,   1.73031318,  50.88029661,   3.67294732,\n",
              "         4.09010387])"
            ]
          },
          "metadata": {},
          "execution_count": 103
        }
      ]
    },
    {
      "cell_type": "code",
      "metadata": {
        "colab": {
          "base_uri": "https://localhost:8080/"
        },
        "id": "CHdHRjmJyYpR",
        "outputId": "cfe67391-8714-44b6-9a6a-64f7ce1e5f26"
      },
      "source": [
        "#To retrieve the intercept:\n",
        "print(regressor.intercept_)"
      ],
      "execution_count": null,
      "outputs": [
        {
          "output_type": "stream",
          "name": "stdout",
          "text": [
            "0.7953928045258571\n"
          ]
        }
      ]
    },
    {
      "cell_type": "code",
      "metadata": {
        "colab": {
          "base_uri": "https://localhost:8080/"
        },
        "id": "8xsF5a_7yYpR",
        "outputId": "df8c0114-d9dd-4a94-c26e-58a7617378a3"
      },
      "source": [
        "#For retrieving the slope:\n",
        "print(regressor.coef_)"
      ],
      "execution_count": null,
      "outputs": [
        {
          "output_type": "stream",
          "name": "stdout",
          "text": [
            "[ 1.62162322  2.99097214 -0.01811797  0.56536642]\n"
          ]
        }
      ]
    },
    {
      "cell_type": "code",
      "metadata": {
        "colab": {
          "base_uri": "https://localhost:8080/"
        },
        "id": "f9mzhp0GyYpS",
        "outputId": "749847cc-5d3a-4b9e-801a-f8e0c13351ba"
      },
      "source": [
        "# Accuracy Of the Data\n",
        "regressor.score(X_test,y_test)"
      ],
      "execution_count": null,
      "outputs": [
        {
          "output_type": "execute_result",
          "data": {
            "text/plain": [
              "0.8903538058386007"
            ]
          },
          "metadata": {},
          "execution_count": 106
        }
      ]
    },
    {
      "cell_type": "code",
      "metadata": {
        "colab": {
          "base_uri": "https://localhost:8080/"
        },
        "id": "_igMTBIXyYpS",
        "outputId": "0c01ddc6-c0e4-4cf1-b5ce-666fa43ee60e"
      },
      "source": [
        "y_test"
      ],
      "execution_count": null,
      "outputs": [
        {
          "output_type": "execute_result",
          "data": {
            "text/plain": [
              "40     78.55\n",
              "42      9.00\n",
              "2       9.00\n",
              "49      7.05\n",
              "51      9.00\n",
              "26      9.00\n",
              "34      9.00\n",
              "36      9.00\n",
              "41      9.00\n",
              "39    115.61\n",
              "24      9.00\n",
              "54     83.50\n",
              "46      8.74\n",
              "3      12.91\n",
              "27      9.00\n",
              "59     12.91\n",
              "21      9.23\n",
              "10      3.36\n",
              "53      9.00\n",
              "19      9.00\n",
              "33      9.00\n",
              "57      0.00\n",
              "17     83.50\n",
              "52      7.05\n",
              "50      8.74\n",
              "Name: COD(mg/l), dtype: float64"
            ]
          },
          "metadata": {},
          "execution_count": 107
        }
      ]
    },
    {
      "cell_type": "code",
      "metadata": {
        "colab": {
          "base_uri": "https://localhost:8080/"
        },
        "id": "uGii5BhTyYpT",
        "outputId": "42b48168-bcdf-4ab2-eeb2-a6822d084d6a"
      },
      "source": [
        "y_pred"
      ],
      "execution_count": null,
      "outputs": [
        {
          "output_type": "execute_result",
          "data": {
            "text/plain": [
              "array([ 66.40742821,   5.56974869,   6.23603756,   3.67294732,\n",
              "        13.87556787,  13.87556787,   6.23603756,   7.38805544,\n",
              "         7.04156345, 112.41070555,  13.03809568,  50.88029661,\n",
              "         4.09010387,   7.4007578 ,  13.87556787,   7.4007578 ,\n",
              "         6.98816772,   7.40089908,   7.56206551,   5.56974869,\n",
              "         6.6243    ,   1.73031318,  50.88029661,   3.67294732,\n",
              "         4.09010387])"
            ]
          },
          "metadata": {},
          "execution_count": 108
        }
      ]
    },
    {
      "cell_type": "code",
      "metadata": {
        "colab": {
          "base_uri": "https://localhost:8080/",
          "height": 819
        },
        "id": "ghnDKp5YyYpT",
        "outputId": "22a8636c-da53-4684-cbba-700f744684fe"
      },
      "source": [
        "dfs = pd.DataFrame({'Actual': y_test, 'Predicted': y_pred})\n",
        "dfs"
      ],
      "execution_count": null,
      "outputs": [
        {
          "output_type": "execute_result",
          "data": {
            "text/html": [
              "<div>\n",
              "<style scoped>\n",
              "    .dataframe tbody tr th:only-of-type {\n",
              "        vertical-align: middle;\n",
              "    }\n",
              "\n",
              "    .dataframe tbody tr th {\n",
              "        vertical-align: top;\n",
              "    }\n",
              "\n",
              "    .dataframe thead th {\n",
              "        text-align: right;\n",
              "    }\n",
              "</style>\n",
              "<table border=\"1\" class=\"dataframe\">\n",
              "  <thead>\n",
              "    <tr style=\"text-align: right;\">\n",
              "      <th></th>\n",
              "      <th>Actual</th>\n",
              "      <th>Predicted</th>\n",
              "    </tr>\n",
              "  </thead>\n",
              "  <tbody>\n",
              "    <tr>\n",
              "      <th>40</th>\n",
              "      <td>78.55</td>\n",
              "      <td>66.407428</td>\n",
              "    </tr>\n",
              "    <tr>\n",
              "      <th>42</th>\n",
              "      <td>9.00</td>\n",
              "      <td>5.569749</td>\n",
              "    </tr>\n",
              "    <tr>\n",
              "      <th>2</th>\n",
              "      <td>9.00</td>\n",
              "      <td>6.236038</td>\n",
              "    </tr>\n",
              "    <tr>\n",
              "      <th>49</th>\n",
              "      <td>7.05</td>\n",
              "      <td>3.672947</td>\n",
              "    </tr>\n",
              "    <tr>\n",
              "      <th>51</th>\n",
              "      <td>9.00</td>\n",
              "      <td>13.875568</td>\n",
              "    </tr>\n",
              "    <tr>\n",
              "      <th>26</th>\n",
              "      <td>9.00</td>\n",
              "      <td>13.875568</td>\n",
              "    </tr>\n",
              "    <tr>\n",
              "      <th>34</th>\n",
              "      <td>9.00</td>\n",
              "      <td>6.236038</td>\n",
              "    </tr>\n",
              "    <tr>\n",
              "      <th>36</th>\n",
              "      <td>9.00</td>\n",
              "      <td>7.388055</td>\n",
              "    </tr>\n",
              "    <tr>\n",
              "      <th>41</th>\n",
              "      <td>9.00</td>\n",
              "      <td>7.041563</td>\n",
              "    </tr>\n",
              "    <tr>\n",
              "      <th>39</th>\n",
              "      <td>115.61</td>\n",
              "      <td>112.410706</td>\n",
              "    </tr>\n",
              "    <tr>\n",
              "      <th>24</th>\n",
              "      <td>9.00</td>\n",
              "      <td>13.038096</td>\n",
              "    </tr>\n",
              "    <tr>\n",
              "      <th>54</th>\n",
              "      <td>83.50</td>\n",
              "      <td>50.880297</td>\n",
              "    </tr>\n",
              "    <tr>\n",
              "      <th>46</th>\n",
              "      <td>8.74</td>\n",
              "      <td>4.090104</td>\n",
              "    </tr>\n",
              "    <tr>\n",
              "      <th>3</th>\n",
              "      <td>12.91</td>\n",
              "      <td>7.400758</td>\n",
              "    </tr>\n",
              "    <tr>\n",
              "      <th>27</th>\n",
              "      <td>9.00</td>\n",
              "      <td>13.875568</td>\n",
              "    </tr>\n",
              "    <tr>\n",
              "      <th>59</th>\n",
              "      <td>12.91</td>\n",
              "      <td>7.400758</td>\n",
              "    </tr>\n",
              "    <tr>\n",
              "      <th>21</th>\n",
              "      <td>9.23</td>\n",
              "      <td>6.988168</td>\n",
              "    </tr>\n",
              "    <tr>\n",
              "      <th>10</th>\n",
              "      <td>3.36</td>\n",
              "      <td>7.400899</td>\n",
              "    </tr>\n",
              "    <tr>\n",
              "      <th>53</th>\n",
              "      <td>9.00</td>\n",
              "      <td>7.562066</td>\n",
              "    </tr>\n",
              "    <tr>\n",
              "      <th>19</th>\n",
              "      <td>9.00</td>\n",
              "      <td>5.569749</td>\n",
              "    </tr>\n",
              "    <tr>\n",
              "      <th>33</th>\n",
              "      <td>9.00</td>\n",
              "      <td>6.624300</td>\n",
              "    </tr>\n",
              "    <tr>\n",
              "      <th>57</th>\n",
              "      <td>0.00</td>\n",
              "      <td>1.730313</td>\n",
              "    </tr>\n",
              "    <tr>\n",
              "      <th>17</th>\n",
              "      <td>83.50</td>\n",
              "      <td>50.880297</td>\n",
              "    </tr>\n",
              "    <tr>\n",
              "      <th>52</th>\n",
              "      <td>7.05</td>\n",
              "      <td>3.672947</td>\n",
              "    </tr>\n",
              "    <tr>\n",
              "      <th>50</th>\n",
              "      <td>8.74</td>\n",
              "      <td>4.090104</td>\n",
              "    </tr>\n",
              "  </tbody>\n",
              "</table>\n",
              "</div>"
            ],
            "text/plain": [
              "    Actual   Predicted\n",
              "40   78.55   66.407428\n",
              "42    9.00    5.569749\n",
              "2     9.00    6.236038\n",
              "49    7.05    3.672947\n",
              "51    9.00   13.875568\n",
              "26    9.00   13.875568\n",
              "34    9.00    6.236038\n",
              "36    9.00    7.388055\n",
              "41    9.00    7.041563\n",
              "39  115.61  112.410706\n",
              "24    9.00   13.038096\n",
              "54   83.50   50.880297\n",
              "46    8.74    4.090104\n",
              "3    12.91    7.400758\n",
              "27    9.00   13.875568\n",
              "59   12.91    7.400758\n",
              "21    9.23    6.988168\n",
              "10    3.36    7.400899\n",
              "53    9.00    7.562066\n",
              "19    9.00    5.569749\n",
              "33    9.00    6.624300\n",
              "57    0.00    1.730313\n",
              "17   83.50   50.880297\n",
              "52    7.05    3.672947\n",
              "50    8.74    4.090104"
            ]
          },
          "metadata": {},
          "execution_count": 109
        }
      ]
    },
    {
      "cell_type": "code",
      "metadata": {
        "colab": {
          "base_uri": "https://localhost:8080/"
        },
        "id": "SYrxAYaKyYpU",
        "outputId": "fef8c75e-98db-4863-cfe6-c13a14436f91"
      },
      "source": [
        "# Accuracy Of the Data\n",
        "regressor.score(X_test,y_test)"
      ],
      "execution_count": null,
      "outputs": [
        {
          "output_type": "execute_result",
          "data": {
            "text/plain": [
              "0.8903538058386007"
            ]
          },
          "metadata": {},
          "execution_count": 110
        }
      ]
    },
    {
      "cell_type": "code",
      "metadata": {
        "colab": {
          "base_uri": "https://localhost:8080/"
        },
        "id": "BdIQq08e1RhW",
        "outputId": "c5ad68c7-e469-4a5a-c63a-b3032f1e143d"
      },
      "source": [
        "regressor.score(X_train,y_train)"
      ],
      "execution_count": null,
      "outputs": [
        {
          "output_type": "execute_result",
          "data": {
            "text/plain": [
              "0.9899113049232141"
            ]
          },
          "metadata": {},
          "execution_count": 111
        }
      ]
    },
    {
      "cell_type": "code",
      "metadata": {
        "colab": {
          "base_uri": "https://localhost:8080/"
        },
        "id": "YMhYq3gLyYpV",
        "outputId": "cd2d427f-a5bb-41e6-d66d-3ca6fd8ece69"
      },
      "source": [
        "print('Mean Absolute Error:', metrics.mean_absolute_error(y_test, y_pred))  \n",
        "print('Mean Squared Error:', metrics.mean_squared_error(y_test, y_pred))  \n",
        "print('Root Mean Squared Error:', np.sqrt(metrics.mean_squared_error(y_test, y_pred)))"
      ],
      "execution_count": null,
      "outputs": [
        {
          "output_type": "stream",
          "name": "stdout",
          "text": [
            "Mean Absolute Error: 6.164157680398745\n",
            "Mean Squared Error: 103.09796818706957\n",
            "Root Mean Squared Error: 10.153716964100859\n"
          ]
        }
      ]
    },
    {
      "cell_type": "code",
      "metadata": {
        "id": "8osF1LxPNitH"
      },
      "source": [
        ""
      ],
      "execution_count": null,
      "outputs": []
    },
    {
      "cell_type": "markdown",
      "metadata": {
        "id": "fI1_pSZpyYpV"
      },
      "source": [
        "# Regularization Method for Incresing efficiency of Algorithm"
      ]
    },
    {
      "cell_type": "markdown",
      "metadata": {
        "id": "6jdk3ItzyYpW"
      },
      "source": [
        "# Lasso Regression Algorithm"
      ]
    },
    {
      "cell_type": "code",
      "metadata": {
        "colab": {
          "base_uri": "https://localhost:8080/"
        },
        "id": "GCteCy89yYpW",
        "outputId": "18b8b4c3-0336-4c7f-ee97-67063fd104f1"
      },
      "source": [
        "from sklearn.linear_model import Lasso\n",
        "lasso_regressor=Lasso()\n",
        "lasso_regressor.fit(X_train,y_train)\n",
        "prediction_lasso=lasso_regressor.predict(X_test)\n",
        "prediction_lasso"
      ],
      "execution_count": null,
      "outputs": [
        {
          "output_type": "execute_result",
          "data": {
            "text/plain": [
              "array([ 66.03942095,   5.39672288,   5.53122609,   4.16191732,\n",
              "         9.97714199,   9.97714199,   5.53122609,   7.06390861,\n",
              "         7.98859832, 106.07062454,   9.23475235,  54.34314215,\n",
              "         4.47657284,   8.32502436,   9.97714199,   8.32502436,\n",
              "         7.77071145,   7.48669117,   8.35979313,   5.39672288,\n",
              "         6.70073999,   1.92098311,  54.34314215,   4.16191732,\n",
              "         4.47657284])"
            ]
          },
          "metadata": {},
          "execution_count": 31
        }
      ]
    },
    {
      "cell_type": "code",
      "metadata": {
        "colab": {
          "base_uri": "https://localhost:8080/",
          "height": 836
        },
        "id": "DL34eE9JyYpX",
        "outputId": "4e465d04-f46d-417e-e2e2-6811a86954a8"
      },
      "source": [
        "print(\"Lasso\")\n",
        "df = pd.DataFrame({'Actual': y_test, 'Predicted': prediction_lasso})\n",
        "df"
      ],
      "execution_count": null,
      "outputs": [
        {
          "output_type": "stream",
          "name": "stdout",
          "text": [
            "Lasso\n"
          ]
        },
        {
          "output_type": "execute_result",
          "data": {
            "text/html": [
              "<div>\n",
              "<style scoped>\n",
              "    .dataframe tbody tr th:only-of-type {\n",
              "        vertical-align: middle;\n",
              "    }\n",
              "\n",
              "    .dataframe tbody tr th {\n",
              "        vertical-align: top;\n",
              "    }\n",
              "\n",
              "    .dataframe thead th {\n",
              "        text-align: right;\n",
              "    }\n",
              "</style>\n",
              "<table border=\"1\" class=\"dataframe\">\n",
              "  <thead>\n",
              "    <tr style=\"text-align: right;\">\n",
              "      <th></th>\n",
              "      <th>Actual</th>\n",
              "      <th>Predicted</th>\n",
              "    </tr>\n",
              "  </thead>\n",
              "  <tbody>\n",
              "    <tr>\n",
              "      <th>40</th>\n",
              "      <td>78.55</td>\n",
              "      <td>66.039421</td>\n",
              "    </tr>\n",
              "    <tr>\n",
              "      <th>42</th>\n",
              "      <td>9.00</td>\n",
              "      <td>5.396723</td>\n",
              "    </tr>\n",
              "    <tr>\n",
              "      <th>2</th>\n",
              "      <td>9.00</td>\n",
              "      <td>5.531226</td>\n",
              "    </tr>\n",
              "    <tr>\n",
              "      <th>49</th>\n",
              "      <td>7.05</td>\n",
              "      <td>4.161917</td>\n",
              "    </tr>\n",
              "    <tr>\n",
              "      <th>51</th>\n",
              "      <td>9.00</td>\n",
              "      <td>9.977142</td>\n",
              "    </tr>\n",
              "    <tr>\n",
              "      <th>26</th>\n",
              "      <td>9.00</td>\n",
              "      <td>9.977142</td>\n",
              "    </tr>\n",
              "    <tr>\n",
              "      <th>34</th>\n",
              "      <td>9.00</td>\n",
              "      <td>5.531226</td>\n",
              "    </tr>\n",
              "    <tr>\n",
              "      <th>36</th>\n",
              "      <td>9.00</td>\n",
              "      <td>7.063909</td>\n",
              "    </tr>\n",
              "    <tr>\n",
              "      <th>41</th>\n",
              "      <td>9.00</td>\n",
              "      <td>7.988598</td>\n",
              "    </tr>\n",
              "    <tr>\n",
              "      <th>39</th>\n",
              "      <td>115.61</td>\n",
              "      <td>106.070625</td>\n",
              "    </tr>\n",
              "    <tr>\n",
              "      <th>24</th>\n",
              "      <td>9.00</td>\n",
              "      <td>9.234752</td>\n",
              "    </tr>\n",
              "    <tr>\n",
              "      <th>54</th>\n",
              "      <td>83.50</td>\n",
              "      <td>54.343142</td>\n",
              "    </tr>\n",
              "    <tr>\n",
              "      <th>46</th>\n",
              "      <td>8.74</td>\n",
              "      <td>4.476573</td>\n",
              "    </tr>\n",
              "    <tr>\n",
              "      <th>3</th>\n",
              "      <td>12.91</td>\n",
              "      <td>8.325024</td>\n",
              "    </tr>\n",
              "    <tr>\n",
              "      <th>27</th>\n",
              "      <td>9.00</td>\n",
              "      <td>9.977142</td>\n",
              "    </tr>\n",
              "    <tr>\n",
              "      <th>59</th>\n",
              "      <td>12.91</td>\n",
              "      <td>8.325024</td>\n",
              "    </tr>\n",
              "    <tr>\n",
              "      <th>21</th>\n",
              "      <td>9.23</td>\n",
              "      <td>7.770711</td>\n",
              "    </tr>\n",
              "    <tr>\n",
              "      <th>10</th>\n",
              "      <td>3.36</td>\n",
              "      <td>7.486691</td>\n",
              "    </tr>\n",
              "    <tr>\n",
              "      <th>53</th>\n",
              "      <td>9.00</td>\n",
              "      <td>8.359793</td>\n",
              "    </tr>\n",
              "    <tr>\n",
              "      <th>19</th>\n",
              "      <td>9.00</td>\n",
              "      <td>5.396723</td>\n",
              "    </tr>\n",
              "    <tr>\n",
              "      <th>33</th>\n",
              "      <td>9.00</td>\n",
              "      <td>6.700740</td>\n",
              "    </tr>\n",
              "    <tr>\n",
              "      <th>57</th>\n",
              "      <td>0.00</td>\n",
              "      <td>1.920983</td>\n",
              "    </tr>\n",
              "    <tr>\n",
              "      <th>17</th>\n",
              "      <td>83.50</td>\n",
              "      <td>54.343142</td>\n",
              "    </tr>\n",
              "    <tr>\n",
              "      <th>52</th>\n",
              "      <td>7.05</td>\n",
              "      <td>4.161917</td>\n",
              "    </tr>\n",
              "    <tr>\n",
              "      <th>50</th>\n",
              "      <td>8.74</td>\n",
              "      <td>4.476573</td>\n",
              "    </tr>\n",
              "  </tbody>\n",
              "</table>\n",
              "</div>"
            ],
            "text/plain": [
              "    Actual   Predicted\n",
              "40   78.55   66.039421\n",
              "42    9.00    5.396723\n",
              "2     9.00    5.531226\n",
              "49    7.05    4.161917\n",
              "51    9.00    9.977142\n",
              "26    9.00    9.977142\n",
              "34    9.00    5.531226\n",
              "36    9.00    7.063909\n",
              "41    9.00    7.988598\n",
              "39  115.61  106.070625\n",
              "24    9.00    9.234752\n",
              "54   83.50   54.343142\n",
              "46    8.74    4.476573\n",
              "3    12.91    8.325024\n",
              "27    9.00    9.977142\n",
              "59   12.91    8.325024\n",
              "21    9.23    7.770711\n",
              "10    3.36    7.486691\n",
              "53    9.00    8.359793\n",
              "19    9.00    5.396723\n",
              "33    9.00    6.700740\n",
              "57    0.00    1.920983\n",
              "17   83.50   54.343142\n",
              "52    7.05    4.161917\n",
              "50    8.74    4.476573"
            ]
          },
          "metadata": {},
          "execution_count": 32
        }
      ]
    },
    {
      "cell_type": "code",
      "metadata": {
        "colab": {
          "base_uri": "https://localhost:8080/"
        },
        "id": "uoLt4Qk3yYpX",
        "outputId": "9b654396-16c8-433e-9075-7fce46a57655"
      },
      "source": [
        "lasso_regressor.score(X_test,y_test)"
      ],
      "execution_count": null,
      "outputs": [
        {
          "output_type": "execute_result",
          "data": {
            "text/plain": [
              "0.9094265318588517"
            ]
          },
          "metadata": {},
          "execution_count": 33
        }
      ]
    },
    {
      "cell_type": "code",
      "metadata": {
        "colab": {
          "base_uri": "https://localhost:8080/"
        },
        "id": "fyrNZ2IgeKh9",
        "outputId": "4154aef0-4dec-4678-d04f-efc29184bcbe"
      },
      "source": [
        "lasso_regressor.score(X_train,y_train)"
      ],
      "execution_count": null,
      "outputs": [
        {
          "output_type": "execute_result",
          "data": {
            "text/plain": [
              "0.988834383314928"
            ]
          },
          "metadata": {},
          "execution_count": 34
        }
      ]
    },
    {
      "cell_type": "code",
      "metadata": {
        "colab": {
          "base_uri": "https://localhost:8080/"
        },
        "id": "kinvl0MhyYpY",
        "outputId": "da903b9b-e4af-4ee6-f12f-497f83753765"
      },
      "source": [
        "print(\"Lasso Regression\")\n",
        "mae_lasso=metrics.mean_absolute_error(y_test,prediction_lasso)\n",
        "print('Mean Absolute Error:',mae_lasso)    \n",
        "print('Root Mean Squared Error:', np.sqrt(metrics.mean_squared_error(y_test, prediction_lasso)))"
      ],
      "execution_count": null,
      "outputs": [
        {
          "output_type": "stream",
          "name": "stdout",
          "text": [
            "Lasso Regression\n",
            "Mean Absolute Error: 5.381633772749371\n",
            "Root Mean Squared Error: 9.22845016087361\n"
          ]
        }
      ]
    },
    {
      "cell_type": "markdown",
      "metadata": {
        "id": "HzggZsYFyYpY"
      },
      "source": [
        "# Ridge Regression"
      ]
    },
    {
      "cell_type": "code",
      "metadata": {
        "id": "BWUC-RynyYpY",
        "colab": {
          "base_uri": "https://localhost:8080/"
        },
        "outputId": "0a9a8654-b654-475c-888a-1c88468eef2f"
      },
      "source": [
        "from sklearn.linear_model import Ridge\n",
        "ridge_regressor=Ridge()\n",
        "ridge_regressor.fit(X_train,y_train)\n",
        "prediction_ridge=ridge_regressor.predict(X_test)\n",
        "prediction_ridge"
      ],
      "execution_count": null,
      "outputs": [
        {
          "output_type": "execute_result",
          "data": {
            "text/plain": [
              "array([ 67.31681083,   4.84035385,   5.66467859,   3.57653041,\n",
              "         9.94378606,   9.94378606,   5.66467859,   7.18180091,\n",
              "         7.40195872, 108.44308998,   8.99483719,  44.97818905,\n",
              "         4.071934  ,   4.76577817,   9.94378606,   4.76577817,\n",
              "         8.53241724,   7.54677565,   7.87643315,   4.84035385,\n",
              "         7.50259055,   1.9812582 ,  44.97818905,   3.57653041,\n",
              "         4.071934  ])"
            ]
          },
          "metadata": {},
          "execution_count": 36
        }
      ]
    },
    {
      "cell_type": "code",
      "metadata": {
        "id": "IKjBAx9kyYpZ",
        "colab": {
          "base_uri": "https://localhost:8080/",
          "height": 836
        },
        "outputId": "449c96bf-867e-4e0a-8a0e-8321dd103ab6"
      },
      "source": [
        "print(\"Ridge\")\n",
        "df = pd.DataFrame({'Actual': y_test, 'Predicted': prediction_ridge})\n",
        "df"
      ],
      "execution_count": null,
      "outputs": [
        {
          "output_type": "stream",
          "name": "stdout",
          "text": [
            "Ridge\n"
          ]
        },
        {
          "output_type": "execute_result",
          "data": {
            "text/html": [
              "<div>\n",
              "<style scoped>\n",
              "    .dataframe tbody tr th:only-of-type {\n",
              "        vertical-align: middle;\n",
              "    }\n",
              "\n",
              "    .dataframe tbody tr th {\n",
              "        vertical-align: top;\n",
              "    }\n",
              "\n",
              "    .dataframe thead th {\n",
              "        text-align: right;\n",
              "    }\n",
              "</style>\n",
              "<table border=\"1\" class=\"dataframe\">\n",
              "  <thead>\n",
              "    <tr style=\"text-align: right;\">\n",
              "      <th></th>\n",
              "      <th>Actual</th>\n",
              "      <th>Predicted</th>\n",
              "    </tr>\n",
              "  </thead>\n",
              "  <tbody>\n",
              "    <tr>\n",
              "      <th>40</th>\n",
              "      <td>78.55</td>\n",
              "      <td>67.316811</td>\n",
              "    </tr>\n",
              "    <tr>\n",
              "      <th>42</th>\n",
              "      <td>9.00</td>\n",
              "      <td>4.840354</td>\n",
              "    </tr>\n",
              "    <tr>\n",
              "      <th>2</th>\n",
              "      <td>9.00</td>\n",
              "      <td>5.664679</td>\n",
              "    </tr>\n",
              "    <tr>\n",
              "      <th>49</th>\n",
              "      <td>7.05</td>\n",
              "      <td>3.576530</td>\n",
              "    </tr>\n",
              "    <tr>\n",
              "      <th>51</th>\n",
              "      <td>9.00</td>\n",
              "      <td>9.943786</td>\n",
              "    </tr>\n",
              "    <tr>\n",
              "      <th>26</th>\n",
              "      <td>9.00</td>\n",
              "      <td>9.943786</td>\n",
              "    </tr>\n",
              "    <tr>\n",
              "      <th>34</th>\n",
              "      <td>9.00</td>\n",
              "      <td>5.664679</td>\n",
              "    </tr>\n",
              "    <tr>\n",
              "      <th>36</th>\n",
              "      <td>9.00</td>\n",
              "      <td>7.181801</td>\n",
              "    </tr>\n",
              "    <tr>\n",
              "      <th>41</th>\n",
              "      <td>9.00</td>\n",
              "      <td>7.401959</td>\n",
              "    </tr>\n",
              "    <tr>\n",
              "      <th>39</th>\n",
              "      <td>115.61</td>\n",
              "      <td>108.443090</td>\n",
              "    </tr>\n",
              "    <tr>\n",
              "      <th>24</th>\n",
              "      <td>9.00</td>\n",
              "      <td>8.994837</td>\n",
              "    </tr>\n",
              "    <tr>\n",
              "      <th>54</th>\n",
              "      <td>83.50</td>\n",
              "      <td>44.978189</td>\n",
              "    </tr>\n",
              "    <tr>\n",
              "      <th>46</th>\n",
              "      <td>8.74</td>\n",
              "      <td>4.071934</td>\n",
              "    </tr>\n",
              "    <tr>\n",
              "      <th>3</th>\n",
              "      <td>12.91</td>\n",
              "      <td>4.765778</td>\n",
              "    </tr>\n",
              "    <tr>\n",
              "      <th>27</th>\n",
              "      <td>9.00</td>\n",
              "      <td>9.943786</td>\n",
              "    </tr>\n",
              "    <tr>\n",
              "      <th>59</th>\n",
              "      <td>12.91</td>\n",
              "      <td>4.765778</td>\n",
              "    </tr>\n",
              "    <tr>\n",
              "      <th>21</th>\n",
              "      <td>9.23</td>\n",
              "      <td>8.532417</td>\n",
              "    </tr>\n",
              "    <tr>\n",
              "      <th>10</th>\n",
              "      <td>3.36</td>\n",
              "      <td>7.546776</td>\n",
              "    </tr>\n",
              "    <tr>\n",
              "      <th>53</th>\n",
              "      <td>9.00</td>\n",
              "      <td>7.876433</td>\n",
              "    </tr>\n",
              "    <tr>\n",
              "      <th>19</th>\n",
              "      <td>9.00</td>\n",
              "      <td>4.840354</td>\n",
              "    </tr>\n",
              "    <tr>\n",
              "      <th>33</th>\n",
              "      <td>9.00</td>\n",
              "      <td>7.502591</td>\n",
              "    </tr>\n",
              "    <tr>\n",
              "      <th>57</th>\n",
              "      <td>0.00</td>\n",
              "      <td>1.981258</td>\n",
              "    </tr>\n",
              "    <tr>\n",
              "      <th>17</th>\n",
              "      <td>83.50</td>\n",
              "      <td>44.978189</td>\n",
              "    </tr>\n",
              "    <tr>\n",
              "      <th>52</th>\n",
              "      <td>7.05</td>\n",
              "      <td>3.576530</td>\n",
              "    </tr>\n",
              "    <tr>\n",
              "      <th>50</th>\n",
              "      <td>8.74</td>\n",
              "      <td>4.071934</td>\n",
              "    </tr>\n",
              "  </tbody>\n",
              "</table>\n",
              "</div>"
            ],
            "text/plain": [
              "    Actual   Predicted\n",
              "40   78.55   67.316811\n",
              "42    9.00    4.840354\n",
              "2     9.00    5.664679\n",
              "49    7.05    3.576530\n",
              "51    9.00    9.943786\n",
              "26    9.00    9.943786\n",
              "34    9.00    5.664679\n",
              "36    9.00    7.181801\n",
              "41    9.00    7.401959\n",
              "39  115.61  108.443090\n",
              "24    9.00    8.994837\n",
              "54   83.50   44.978189\n",
              "46    8.74    4.071934\n",
              "3    12.91    4.765778\n",
              "27    9.00    9.943786\n",
              "59   12.91    4.765778\n",
              "21    9.23    8.532417\n",
              "10    3.36    7.546776\n",
              "53    9.00    7.876433\n",
              "19    9.00    4.840354\n",
              "33    9.00    7.502591\n",
              "57    0.00    1.981258\n",
              "17   83.50   44.978189\n",
              "52    7.05    3.576530\n",
              "50    8.74    4.071934"
            ]
          },
          "metadata": {},
          "execution_count": 37
        }
      ]
    },
    {
      "cell_type": "code",
      "metadata": {
        "id": "bKXV9YJLyYpZ",
        "colab": {
          "base_uri": "https://localhost:8080/"
        },
        "outputId": "92b7d328-0673-4bf0-b9b5-47d838285146"
      },
      "source": [
        "ridge_regressor.score(X_test,y_test)"
      ],
      "execution_count": null,
      "outputs": [
        {
          "output_type": "execute_result",
          "data": {
            "text/plain": [
              "0.8538046496040007"
            ]
          },
          "metadata": {},
          "execution_count": 38
        }
      ]
    },
    {
      "cell_type": "code",
      "metadata": {
        "id": "RznagFRxyYpZ",
        "colab": {
          "base_uri": "https://localhost:8080/"
        },
        "outputId": "93a67051-3482-41d7-9c81-7482fa49c4c2"
      },
      "source": [
        "print(\"Ridge Regression\")\n",
        "mae_ridge=metrics.mean_absolute_error(y_test, prediction_ridge)\n",
        "print('Mean Absolute Error:',mae_ridge )   \n",
        "print('Root Mean Squared Error:', np.sqrt(metrics.mean_squared_error(y_test, prediction_ridge)))"
      ],
      "execution_count": null,
      "outputs": [
        {
          "output_type": "stream",
          "name": "stdout",
          "text": [
            "Ridge Regression\n",
            "Mean Absolute Error: 6.34978101304666\n",
            "Root Mean Squared Error: 11.724519480888501\n"
          ]
        }
      ]
    },
    {
      "cell_type": "markdown",
      "metadata": {
        "id": "d1aSZSJzyYpa"
      },
      "source": [
        "# Elastic Net Algorithm"
      ]
    },
    {
      "cell_type": "code",
      "metadata": {
        "id": "NFqb0IlHyYpa",
        "colab": {
          "base_uri": "https://localhost:8080/"
        },
        "outputId": "1a0b3ec8-60f2-4670-943c-cb8ecb4b4102"
      },
      "source": [
        "from sklearn.linear_model import ElasticNet\n",
        "model_enet = ElasticNet()\n",
        "model_enet.fit(X_train, y_train) \n",
        "prediction_elasticnet= model_enet.predict(X_test)\n",
        "prediction_elasticnet"
      ],
      "execution_count": null,
      "outputs": [
        {
          "output_type": "execute_result",
          "data": {
            "text/plain": [
              "array([ 65.52427415,   5.63764186,   5.45913038,   4.41268646,\n",
              "         9.99282331,   9.99282331,   5.45913038,   7.00392403,\n",
              "         8.25026341, 105.08250963,   9.34226761,  58.40132021,\n",
              "         4.64607944,   9.86159361,   9.99282331,   9.86159361,\n",
              "         7.43463862,   7.45320279,   8.57554126,   5.63764186,\n",
              "         6.3435424 ,   1.88777549,  58.40132021,   4.41268646,\n",
              "         4.64607944])"
            ]
          },
          "metadata": {},
          "execution_count": 40
        }
      ]
    },
    {
      "cell_type": "code",
      "metadata": {
        "id": "W17ZfGyMyYpa",
        "colab": {
          "base_uri": "https://localhost:8080/",
          "height": 836
        },
        "outputId": "c96bbe11-ea0d-483f-a6b0-30f3d1aa125e"
      },
      "source": [
        "print(\"Elastic Net\")\n",
        "df = pd.DataFrame({'Actual': y_test, 'Predicted': prediction_elasticnet})\n",
        "df"
      ],
      "execution_count": null,
      "outputs": [
        {
          "output_type": "stream",
          "name": "stdout",
          "text": [
            "Elastic Net\n"
          ]
        },
        {
          "output_type": "execute_result",
          "data": {
            "text/html": [
              "<div>\n",
              "<style scoped>\n",
              "    .dataframe tbody tr th:only-of-type {\n",
              "        vertical-align: middle;\n",
              "    }\n",
              "\n",
              "    .dataframe tbody tr th {\n",
              "        vertical-align: top;\n",
              "    }\n",
              "\n",
              "    .dataframe thead th {\n",
              "        text-align: right;\n",
              "    }\n",
              "</style>\n",
              "<table border=\"1\" class=\"dataframe\">\n",
              "  <thead>\n",
              "    <tr style=\"text-align: right;\">\n",
              "      <th></th>\n",
              "      <th>Actual</th>\n",
              "      <th>Predicted</th>\n",
              "    </tr>\n",
              "  </thead>\n",
              "  <tbody>\n",
              "    <tr>\n",
              "      <th>40</th>\n",
              "      <td>78.55</td>\n",
              "      <td>65.524274</td>\n",
              "    </tr>\n",
              "    <tr>\n",
              "      <th>42</th>\n",
              "      <td>9.00</td>\n",
              "      <td>5.637642</td>\n",
              "    </tr>\n",
              "    <tr>\n",
              "      <th>2</th>\n",
              "      <td>9.00</td>\n",
              "      <td>5.459130</td>\n",
              "    </tr>\n",
              "    <tr>\n",
              "      <th>49</th>\n",
              "      <td>7.05</td>\n",
              "      <td>4.412686</td>\n",
              "    </tr>\n",
              "    <tr>\n",
              "      <th>51</th>\n",
              "      <td>9.00</td>\n",
              "      <td>9.992823</td>\n",
              "    </tr>\n",
              "    <tr>\n",
              "      <th>26</th>\n",
              "      <td>9.00</td>\n",
              "      <td>9.992823</td>\n",
              "    </tr>\n",
              "    <tr>\n",
              "      <th>34</th>\n",
              "      <td>9.00</td>\n",
              "      <td>5.459130</td>\n",
              "    </tr>\n",
              "    <tr>\n",
              "      <th>36</th>\n",
              "      <td>9.00</td>\n",
              "      <td>7.003924</td>\n",
              "    </tr>\n",
              "    <tr>\n",
              "      <th>41</th>\n",
              "      <td>9.00</td>\n",
              "      <td>8.250263</td>\n",
              "    </tr>\n",
              "    <tr>\n",
              "      <th>39</th>\n",
              "      <td>115.61</td>\n",
              "      <td>105.082510</td>\n",
              "    </tr>\n",
              "    <tr>\n",
              "      <th>24</th>\n",
              "      <td>9.00</td>\n",
              "      <td>9.342268</td>\n",
              "    </tr>\n",
              "    <tr>\n",
              "      <th>54</th>\n",
              "      <td>83.50</td>\n",
              "      <td>58.401320</td>\n",
              "    </tr>\n",
              "    <tr>\n",
              "      <th>46</th>\n",
              "      <td>8.74</td>\n",
              "      <td>4.646079</td>\n",
              "    </tr>\n",
              "    <tr>\n",
              "      <th>3</th>\n",
              "      <td>12.91</td>\n",
              "      <td>9.861594</td>\n",
              "    </tr>\n",
              "    <tr>\n",
              "      <th>27</th>\n",
              "      <td>9.00</td>\n",
              "      <td>9.992823</td>\n",
              "    </tr>\n",
              "    <tr>\n",
              "      <th>59</th>\n",
              "      <td>12.91</td>\n",
              "      <td>9.861594</td>\n",
              "    </tr>\n",
              "    <tr>\n",
              "      <th>21</th>\n",
              "      <td>9.23</td>\n",
              "      <td>7.434639</td>\n",
              "    </tr>\n",
              "    <tr>\n",
              "      <th>10</th>\n",
              "      <td>3.36</td>\n",
              "      <td>7.453203</td>\n",
              "    </tr>\n",
              "    <tr>\n",
              "      <th>53</th>\n",
              "      <td>9.00</td>\n",
              "      <td>8.575541</td>\n",
              "    </tr>\n",
              "    <tr>\n",
              "      <th>19</th>\n",
              "      <td>9.00</td>\n",
              "      <td>5.637642</td>\n",
              "    </tr>\n",
              "    <tr>\n",
              "      <th>33</th>\n",
              "      <td>9.00</td>\n",
              "      <td>6.343542</td>\n",
              "    </tr>\n",
              "    <tr>\n",
              "      <th>57</th>\n",
              "      <td>0.00</td>\n",
              "      <td>1.887775</td>\n",
              "    </tr>\n",
              "    <tr>\n",
              "      <th>17</th>\n",
              "      <td>83.50</td>\n",
              "      <td>58.401320</td>\n",
              "    </tr>\n",
              "    <tr>\n",
              "      <th>52</th>\n",
              "      <td>7.05</td>\n",
              "      <td>4.412686</td>\n",
              "    </tr>\n",
              "    <tr>\n",
              "      <th>50</th>\n",
              "      <td>8.74</td>\n",
              "      <td>4.646079</td>\n",
              "    </tr>\n",
              "  </tbody>\n",
              "</table>\n",
              "</div>"
            ],
            "text/plain": [
              "    Actual   Predicted\n",
              "40   78.55   65.524274\n",
              "42    9.00    5.637642\n",
              "2     9.00    5.459130\n",
              "49    7.05    4.412686\n",
              "51    9.00    9.992823\n",
              "26    9.00    9.992823\n",
              "34    9.00    5.459130\n",
              "36    9.00    7.003924\n",
              "41    9.00    8.250263\n",
              "39  115.61  105.082510\n",
              "24    9.00    9.342268\n",
              "54   83.50   58.401320\n",
              "46    8.74    4.646079\n",
              "3    12.91    9.861594\n",
              "27    9.00    9.992823\n",
              "59   12.91    9.861594\n",
              "21    9.23    7.434639\n",
              "10    3.36    7.453203\n",
              "53    9.00    8.575541\n",
              "19    9.00    5.637642\n",
              "33    9.00    6.343542\n",
              "57    0.00    1.887775\n",
              "17   83.50   58.401320\n",
              "52    7.05    4.412686\n",
              "50    8.74    4.646079"
            ]
          },
          "metadata": {},
          "execution_count": 41
        }
      ]
    },
    {
      "cell_type": "code",
      "metadata": {
        "id": "la5NQ3Y1yYpb",
        "colab": {
          "base_uri": "https://localhost:8080/"
        },
        "outputId": "88f042c0-0876-4cb7-ba75-9aa856aad4f5"
      },
      "source": [
        "model_enet.score(X_test,y_test)"
      ],
      "execution_count": null,
      "outputs": [
        {
          "output_type": "execute_result",
          "data": {
            "text/plain": [
              "0.9280006076662045"
            ]
          },
          "metadata": {},
          "execution_count": 42
        }
      ]
    },
    {
      "cell_type": "code",
      "metadata": {
        "colab": {
          "base_uri": "https://localhost:8080/"
        },
        "id": "dFuf8E4OedEY",
        "outputId": "258ef37c-fd66-47c6-d8fd-df1739e2b522"
      },
      "source": [
        "model_enet.score(X_train,y_train)"
      ],
      "execution_count": null,
      "outputs": [
        {
          "output_type": "execute_result",
          "data": {
            "text/plain": [
              "0.9884967052927085"
            ]
          },
          "metadata": {},
          "execution_count": 43
        }
      ]
    },
    {
      "cell_type": "code",
      "metadata": {
        "id": "0qG2JG36yYpb",
        "colab": {
          "base_uri": "https://localhost:8080/"
        },
        "outputId": "05699209-566a-475a-df18-dce61a213483"
      },
      "source": [
        "print(\"Elastic_net Regression\")\n",
        "mae_elasticnet=metrics.mean_absolute_error(y_test, prediction_elasticnet)\n",
        "print('Mean Absolute Error:',mae_elasticnet )   \n",
        "print('Root Mean Squared Error:', np.sqrt(metrics.mean_squared_error(y_test, prediction_elasticnet)))"
      ],
      "execution_count": null,
      "outputs": [
        {
          "output_type": "stream",
          "name": "stdout",
          "text": [
            "Elastic_net Regression\n",
            "Mean Absolute Error: 4.961604736220981\n",
            "Root Mean Squared Error: 8.227969778291717\n"
          ]
        }
      ]
    },
    {
      "cell_type": "code",
      "metadata": {
        "id": "9jKkGZl1yYpb",
        "colab": {
          "base_uri": "https://localhost:8080/",
          "height": 480
        },
        "outputId": "c9ee385a-726c-44cc-da2e-8771c4448877"
      },
      "source": [
        "plt.figure(figsize=(12,8))\n",
        "plt.plot([\"Ridge\",\"Lasso\",\"ElasticNet\"],[mae_ridge,mae_lasso,mae_elasticnet],marker='o')\n",
        "plt.grid()\n",
        "plt.xlabel(\"Types of Regularization\")\n",
        "plt.ylabel(\"Mean Absolute Error\")"
      ],
      "execution_count": null,
      "outputs": [
        {
          "output_type": "execute_result",
          "data": {
            "text/plain": [
              "Text(0, 0.5, 'Mean Absolute Error')"
            ]
          },
          "metadata": {},
          "execution_count": 45
        },
        {
          "output_type": "display_data",
          "data": {
            "image/png": "[encoded data removed]",
            "text/plain": [
              "<Figure size 864x576 with 1 Axes>"
            ]
          },
          "metadata": {
            "needs_background": "light"
          }
        }
      ]
    },
    {
      "cell_type": "code",
      "metadata": {
        "id": "PML7CquKyYpc"
      },
      "source": [
        "from keras.models import Sequential\n",
        "from keras.layers import Dense"
      ],
      "execution_count": null,
      "outputs": []
    },
    {
      "cell_type": "code",
      "metadata": {
        "id": "3DozGaLxyYpc"
      },
      "source": [
        "model = Sequential()\n",
        "model.add(Dense(4, input_dim=4, activation='relu'))\n",
        "model.add(Dense(3, activation='cost'))\n"
      ],
      "execution_count": null,
      "outputs": []
    },
    {
      "cell_type": "code",
      "metadata": {
        "id": "6Bwuzy8lyYpd"
      },
      "source": [
        "# compile the keras model\n",
        "model.compile(loss='binary_crossentropy', optimizer='adam', metrics=['accuracy'])"
      ],
      "execution_count": null,
      "outputs": []
    },
    {
      "cell_type": "code",
      "metadata": {
        "id": "NtnrdGTWyYpd",
        "colab": {
          "base_uri": "https://localhost:8080/",
          "height": 1000
        },
        "outputId": "3a7ee68f-e1aa-4767-9f4c-1688a6edb9a8"
      },
      "source": [
        "\n",
        "# fit the keras model on the dataset\n",
        "model.fit(X_train, y_train, epochs=200, batch_size=10)"
      ],
      "execution_count": null,
      "outputs": [
        {
          "output_type": "stream",
          "name": "stdout",
          "text": [
            "Epoch 1/200\n"
          ]
        },
        {
          "output_type": "error",
          "ename": "ValueError",
          "evalue": "ignored",
          "traceback": [
            "\u001b[0;31m---------------------------------------------------------------------------\u001b[0m",
            "\u001b[0;31mValueError\u001b[0m                                Traceback (most recent call last)",
            "\u001b[0;32m<ipython-input-122-bdcdd72f706c>\u001b[0m in \u001b[0;36m<module>\u001b[0;34m()\u001b[0m\n\u001b[1;32m      1\u001b[0m \u001b[0;34m\u001b[0m\u001b[0m\n\u001b[1;32m      2\u001b[0m \u001b[0;31m# fit the keras model on the dataset\u001b[0m\u001b[0;34m\u001b[0m\u001b[0;34m\u001b[0m\u001b[0;34m\u001b[0m\u001b[0m\n\u001b[0;32m----> 3\u001b[0;31m \u001b[0mmodel\u001b[0m\u001b[0;34m.\u001b[0m\u001b[0mfit\u001b[0m\u001b[0;34m(\u001b[0m\u001b[0mX_train\u001b[0m\u001b[0;34m,\u001b[0m \u001b[0my_train\u001b[0m\u001b[0;34m,\u001b[0m \u001b[0mepochs\u001b[0m\u001b[0;34m=\u001b[0m\u001b[0;36m200\u001b[0m\u001b[0;34m,\u001b[0m \u001b[0mbatch_size\u001b[0m\u001b[0;34m=\u001b[0m\u001b[0;36m10\u001b[0m\u001b[0;34m)\u001b[0m\u001b[0;34m\u001b[0m\u001b[0;34m\u001b[0m\u001b[0m\n\u001b[0m",
            "\u001b[0;32m/usr/local/lib/python3.7/dist-packages/keras/engine/training.py\u001b[0m in \u001b[0;36mfit\u001b[0;34m(self, x, y, batch_size, epochs, verbose, callbacks, validation_split, validation_data, shuffle, class_weight, sample_weight, initial_epoch, steps_per_epoch, validation_steps, validation_batch_size, validation_freq, max_queue_size, workers, use_multiprocessing)\u001b[0m\n\u001b[1;32m   1182\u001b[0m                 _r=1):\n\u001b[1;32m   1183\u001b[0m               \u001b[0mcallbacks\u001b[0m\u001b[0;34m.\u001b[0m\u001b[0mon_train_batch_begin\u001b[0m\u001b[0;34m(\u001b[0m\u001b[0mstep\u001b[0m\u001b[0;34m)\u001b[0m\u001b[0;34m\u001b[0m\u001b[0;34m\u001b[0m\u001b[0m\n\u001b[0;32m-> 1184\u001b[0;31m               \u001b[0mtmp_logs\u001b[0m \u001b[0;34m=\u001b[0m \u001b[0mself\u001b[0m\u001b[0;34m.\u001b[0m\u001b[0mtrain_function\u001b[0m\u001b[0;34m(\u001b[0m\u001b[0miterator\u001b[0m\u001b[0;34m)\u001b[0m\u001b[0;34m\u001b[0m\u001b[0;34m\u001b[0m\u001b[0m\n\u001b[0m\u001b[1;32m   1185\u001b[0m               \u001b[0;32mif\u001b[0m \u001b[0mdata_handler\u001b[0m\u001b[0;34m.\u001b[0m\u001b[0mshould_sync\u001b[0m\u001b[0;34m:\u001b[0m\u001b[0;34m\u001b[0m\u001b[0;34m\u001b[0m\u001b[0m\n\u001b[1;32m   1186\u001b[0m                 \u001b[0mcontext\u001b[0m\u001b[0;34m.\u001b[0m\u001b[0masync_wait\u001b[0m\u001b[0;34m(\u001b[0m\u001b[0;34m)\u001b[0m\u001b[0;34m\u001b[0m\u001b[0;34m\u001b[0m\u001b[0m\n",
            "\u001b[0;32m/usr/local/lib/python3.7/dist-packages/tensorflow/python/eager/def_function.py\u001b[0m in \u001b[0;36m__call__\u001b[0;34m(self, *args, **kwds)\u001b[0m\n\u001b[1;32m    883\u001b[0m \u001b[0;34m\u001b[0m\u001b[0m\n\u001b[1;32m    884\u001b[0m       \u001b[0;32mwith\u001b[0m \u001b[0mOptionalXlaContext\u001b[0m\u001b[0;34m(\u001b[0m\u001b[0mself\u001b[0m\u001b[0;34m.\u001b[0m\u001b[0m_jit_compile\u001b[0m\u001b[0;34m)\u001b[0m\u001b[0;34m:\u001b[0m\u001b[0;34m\u001b[0m\u001b[0;34m\u001b[0m\u001b[0m\n\u001b[0;32m--> 885\u001b[0;31m         \u001b[0mresult\u001b[0m \u001b[0;34m=\u001b[0m \u001b[0mself\u001b[0m\u001b[0;34m.\u001b[0m\u001b[0m_call\u001b[0m\u001b[0;34m(\u001b[0m\u001b[0;34m*\u001b[0m\u001b[0margs\u001b[0m\u001b[0;34m,\u001b[0m \u001b[0;34m**\u001b[0m\u001b[0mkwds\u001b[0m\u001b[0;34m)\u001b[0m\u001b[0;34m\u001b[0m\u001b[0;34m\u001b[0m\u001b[0m\n\u001b[0m\u001b[1;32m    886\u001b[0m \u001b[0;34m\u001b[0m\u001b[0m\n\u001b[1;32m    887\u001b[0m       \u001b[0mnew_tracing_count\u001b[0m \u001b[0;34m=\u001b[0m \u001b[0mself\u001b[0m\u001b[0;34m.\u001b[0m\u001b[0mexperimental_get_tracing_count\u001b[0m\u001b[0;34m(\u001b[0m\u001b[0;34m)\u001b[0m\u001b[0;34m\u001b[0m\u001b[0;34m\u001b[0m\u001b[0m\n",
            "\u001b[0;32m/usr/local/lib/python3.7/dist-packages/tensorflow/python/eager/def_function.py\u001b[0m in \u001b[0;36m_call\u001b[0;34m(self, *args, **kwds)\u001b[0m\n\u001b[1;32m    922\u001b[0m       \u001b[0;31m# In this case we have not created variables on the first call. So we can\u001b[0m\u001b[0;34m\u001b[0m\u001b[0;34m\u001b[0m\u001b[0;34m\u001b[0m\u001b[0m\n\u001b[1;32m    923\u001b[0m       \u001b[0;31m# run the first trace but we should fail if variables are created.\u001b[0m\u001b[0;34m\u001b[0m\u001b[0;34m\u001b[0m\u001b[0;34m\u001b[0m\u001b[0m\n\u001b[0;32m--> 924\u001b[0;31m       \u001b[0mresults\u001b[0m \u001b[0;34m=\u001b[0m \u001b[0mself\u001b[0m\u001b[0;34m.\u001b[0m\u001b[0m_stateful_fn\u001b[0m\u001b[0;34m(\u001b[0m\u001b[0;34m*\u001b[0m\u001b[0margs\u001b[0m\u001b[0;34m,\u001b[0m \u001b[0;34m**\u001b[0m\u001b[0mkwds\u001b[0m\u001b[0;34m)\u001b[0m\u001b[0;34m\u001b[0m\u001b[0;34m\u001b[0m\u001b[0m\n\u001b[0m\u001b[1;32m    925\u001b[0m       \u001b[0;32mif\u001b[0m \u001b[0mself\u001b[0m\u001b[0;34m.\u001b[0m\u001b[0m_created_variables\u001b[0m \u001b[0;32mand\u001b[0m \u001b[0;32mnot\u001b[0m \u001b[0mALLOW_DYNAMIC_VARIABLE_CREATION\u001b[0m\u001b[0;34m:\u001b[0m\u001b[0;34m\u001b[0m\u001b[0;34m\u001b[0m\u001b[0m\n\u001b[1;32m    926\u001b[0m         raise ValueError(\"Creating variables on a non-first call to a function\"\n",
            "\u001b[0;32m/usr/local/lib/python3.7/dist-packages/tensorflow/python/eager/function.py\u001b[0m in \u001b[0;36m__call__\u001b[0;34m(self, *args, **kwargs)\u001b[0m\n\u001b[1;32m   3036\u001b[0m     \u001b[0;32mwith\u001b[0m \u001b[0mself\u001b[0m\u001b[0;34m.\u001b[0m\u001b[0m_lock\u001b[0m\u001b[0;34m:\u001b[0m\u001b[0;34m\u001b[0m\u001b[0;34m\u001b[0m\u001b[0m\n\u001b[1;32m   3037\u001b[0m       (graph_function,\n\u001b[0;32m-> 3038\u001b[0;31m        filtered_flat_args) = self._maybe_define_function(args, kwargs)\n\u001b[0m\u001b[1;32m   3039\u001b[0m     return graph_function._call_flat(\n\u001b[1;32m   3040\u001b[0m         filtered_flat_args, captured_inputs=graph_function.captured_inputs)  # pylint: disable=protected-access\n",
            "\u001b[0;32m/usr/local/lib/python3.7/dist-packages/tensorflow/python/eager/function.py\u001b[0m in \u001b[0;36m_maybe_define_function\u001b[0;34m(self, args, kwargs)\u001b[0m\n\u001b[1;32m   3458\u001b[0m               call_context_key in self._function_cache.missed):\n\u001b[1;32m   3459\u001b[0m             return self._define_function_with_shape_relaxation(\n\u001b[0;32m-> 3460\u001b[0;31m                 args, kwargs, flat_args, filtered_flat_args, cache_key_context)\n\u001b[0m\u001b[1;32m   3461\u001b[0m \u001b[0;34m\u001b[0m\u001b[0m\n\u001b[1;32m   3462\u001b[0m           \u001b[0mself\u001b[0m\u001b[0;34m.\u001b[0m\u001b[0m_function_cache\u001b[0m\u001b[0;34m.\u001b[0m\u001b[0mmissed\u001b[0m\u001b[0;34m.\u001b[0m\u001b[0madd\u001b[0m\u001b[0;34m(\u001b[0m\u001b[0mcall_context_key\u001b[0m\u001b[0;34m)\u001b[0m\u001b[0;34m\u001b[0m\u001b[0;34m\u001b[0m\u001b[0m\n",
            "\u001b[0;32m/usr/local/lib/python3.7/dist-packages/tensorflow/python/eager/function.py\u001b[0m in \u001b[0;36m_define_function_with_shape_relaxation\u001b[0;34m(self, args, kwargs, flat_args, filtered_flat_args, cache_key_context)\u001b[0m\n\u001b[1;32m   3380\u001b[0m \u001b[0;34m\u001b[0m\u001b[0m\n\u001b[1;32m   3381\u001b[0m     graph_function = self._create_graph_function(\n\u001b[0;32m-> 3382\u001b[0;31m         args, kwargs, override_flat_arg_shapes=relaxed_arg_shapes)\n\u001b[0m\u001b[1;32m   3383\u001b[0m     \u001b[0mself\u001b[0m\u001b[0;34m.\u001b[0m\u001b[0m_function_cache\u001b[0m\u001b[0;34m.\u001b[0m\u001b[0marg_relaxed\u001b[0m\u001b[0;34m[\u001b[0m\u001b[0mrank_only_cache_key\u001b[0m\u001b[0;34m]\u001b[0m \u001b[0;34m=\u001b[0m \u001b[0mgraph_function\u001b[0m\u001b[0;34m\u001b[0m\u001b[0;34m\u001b[0m\u001b[0m\n\u001b[1;32m   3384\u001b[0m \u001b[0;34m\u001b[0m\u001b[0m\n",
            "\u001b[0;32m/usr/local/lib/python3.7/dist-packages/tensorflow/python/eager/function.py\u001b[0m in \u001b[0;36m_create_graph_function\u001b[0;34m(self, args, kwargs, override_flat_arg_shapes)\u001b[0m\n\u001b[1;32m   3306\u001b[0m             \u001b[0marg_names\u001b[0m\u001b[0;34m=\u001b[0m\u001b[0marg_names\u001b[0m\u001b[0;34m,\u001b[0m\u001b[0;34m\u001b[0m\u001b[0;34m\u001b[0m\u001b[0m\n\u001b[1;32m   3307\u001b[0m             \u001b[0moverride_flat_arg_shapes\u001b[0m\u001b[0;34m=\u001b[0m\u001b[0moverride_flat_arg_shapes\u001b[0m\u001b[0;34m,\u001b[0m\u001b[0;34m\u001b[0m\u001b[0;34m\u001b[0m\u001b[0m\n\u001b[0;32m-> 3308\u001b[0;31m             capture_by_value=self._capture_by_value),\n\u001b[0m\u001b[1;32m   3309\u001b[0m         \u001b[0mself\u001b[0m\u001b[0;34m.\u001b[0m\u001b[0m_function_attributes\u001b[0m\u001b[0;34m,\u001b[0m\u001b[0;34m\u001b[0m\u001b[0;34m\u001b[0m\u001b[0m\n\u001b[1;32m   3310\u001b[0m         \u001b[0mfunction_spec\u001b[0m\u001b[0;34m=\u001b[0m\u001b[0mself\u001b[0m\u001b[0;34m.\u001b[0m\u001b[0mfunction_spec\u001b[0m\u001b[0;34m,\u001b[0m\u001b[0;34m\u001b[0m\u001b[0;34m\u001b[0m\u001b[0m\n",
            "\u001b[0;32m/usr/local/lib/python3.7/dist-packages/tensorflow/python/framework/func_graph.py\u001b[0m in \u001b[0;36mfunc_graph_from_py_func\u001b[0;34m(name, python_func, args, kwargs, signature, func_graph, autograph, autograph_options, add_control_dependencies, arg_names, op_return_value, collections, capture_by_value, override_flat_arg_shapes, acd_record_initial_resource_uses)\u001b[0m\n\u001b[1;32m   1005\u001b[0m         \u001b[0m_\u001b[0m\u001b[0;34m,\u001b[0m \u001b[0moriginal_func\u001b[0m \u001b[0;34m=\u001b[0m \u001b[0mtf_decorator\u001b[0m\u001b[0;34m.\u001b[0m\u001b[0munwrap\u001b[0m\u001b[0;34m(\u001b[0m\u001b[0mpython_func\u001b[0m\u001b[0;34m)\u001b[0m\u001b[0;34m\u001b[0m\u001b[0;34m\u001b[0m\u001b[0m\n\u001b[1;32m   1006\u001b[0m \u001b[0;34m\u001b[0m\u001b[0m\n\u001b[0;32m-> 1007\u001b[0;31m       \u001b[0mfunc_outputs\u001b[0m \u001b[0;34m=\u001b[0m \u001b[0mpython_func\u001b[0m\u001b[0;34m(\u001b[0m\u001b[0;34m*\u001b[0m\u001b[0mfunc_args\u001b[0m\u001b[0;34m,\u001b[0m \u001b[0;34m**\u001b[0m\u001b[0mfunc_kwargs\u001b[0m\u001b[0;34m)\u001b[0m\u001b[0;34m\u001b[0m\u001b[0;34m\u001b[0m\u001b[0m\n\u001b[0m\u001b[1;32m   1008\u001b[0m \u001b[0;34m\u001b[0m\u001b[0m\n\u001b[1;32m   1009\u001b[0m       \u001b[0;31m# invariant: `func_outputs` contains only Tensors, CompositeTensors,\u001b[0m\u001b[0;34m\u001b[0m\u001b[0;34m\u001b[0m\u001b[0;34m\u001b[0m\u001b[0m\n",
            "\u001b[0;32m/usr/local/lib/python3.7/dist-packages/tensorflow/python/eager/def_function.py\u001b[0m in \u001b[0;36mwrapped_fn\u001b[0;34m(*args, **kwds)\u001b[0m\n\u001b[1;32m    666\u001b[0m         \u001b[0;31m# the function a weak reference to itself to avoid a reference cycle.\u001b[0m\u001b[0;34m\u001b[0m\u001b[0;34m\u001b[0m\u001b[0;34m\u001b[0m\u001b[0m\n\u001b[1;32m    667\u001b[0m         \u001b[0;32mwith\u001b[0m \u001b[0mOptionalXlaContext\u001b[0m\u001b[0;34m(\u001b[0m\u001b[0mcompile_with_xla\u001b[0m\u001b[0;34m)\u001b[0m\u001b[0;34m:\u001b[0m\u001b[0;34m\u001b[0m\u001b[0;34m\u001b[0m\u001b[0m\n\u001b[0;32m--> 668\u001b[0;31m           \u001b[0mout\u001b[0m \u001b[0;34m=\u001b[0m \u001b[0mweak_wrapped_fn\u001b[0m\u001b[0;34m(\u001b[0m\u001b[0;34m)\u001b[0m\u001b[0;34m.\u001b[0m\u001b[0m__wrapped__\u001b[0m\u001b[0;34m(\u001b[0m\u001b[0;34m*\u001b[0m\u001b[0margs\u001b[0m\u001b[0;34m,\u001b[0m \u001b[0;34m**\u001b[0m\u001b[0mkwds\u001b[0m\u001b[0;34m)\u001b[0m\u001b[0;34m\u001b[0m\u001b[0;34m\u001b[0m\u001b[0m\n\u001b[0m\u001b[1;32m    669\u001b[0m         \u001b[0;32mreturn\u001b[0m \u001b[0mout\u001b[0m\u001b[0;34m\u001b[0m\u001b[0;34m\u001b[0m\u001b[0m\n\u001b[1;32m    670\u001b[0m \u001b[0;34m\u001b[0m\u001b[0m\n",
            "\u001b[0;32m/usr/local/lib/python3.7/dist-packages/tensorflow/python/framework/func_graph.py\u001b[0m in \u001b[0;36mwrapper\u001b[0;34m(*args, **kwargs)\u001b[0m\n\u001b[1;32m    992\u001b[0m           \u001b[0;32mexcept\u001b[0m \u001b[0mException\u001b[0m \u001b[0;32mas\u001b[0m \u001b[0me\u001b[0m\u001b[0;34m:\u001b[0m  \u001b[0;31m# pylint:disable=broad-except\u001b[0m\u001b[0;34m\u001b[0m\u001b[0;34m\u001b[0m\u001b[0m\n\u001b[1;32m    993\u001b[0m             \u001b[0;32mif\u001b[0m \u001b[0mhasattr\u001b[0m\u001b[0;34m(\u001b[0m\u001b[0me\u001b[0m\u001b[0;34m,\u001b[0m \u001b[0;34m\"ag_error_metadata\"\u001b[0m\u001b[0;34m)\u001b[0m\u001b[0;34m:\u001b[0m\u001b[0;34m\u001b[0m\u001b[0;34m\u001b[0m\u001b[0m\n\u001b[0;32m--> 994\u001b[0;31m               \u001b[0;32mraise\u001b[0m \u001b[0me\u001b[0m\u001b[0;34m.\u001b[0m\u001b[0mag_error_metadata\u001b[0m\u001b[0;34m.\u001b[0m\u001b[0mto_exception\u001b[0m\u001b[0;34m(\u001b[0m\u001b[0me\u001b[0m\u001b[0;34m)\u001b[0m\u001b[0;34m\u001b[0m\u001b[0;34m\u001b[0m\u001b[0m\n\u001b[0m\u001b[1;32m    995\u001b[0m             \u001b[0;32melse\u001b[0m\u001b[0;34m:\u001b[0m\u001b[0;34m\u001b[0m\u001b[0;34m\u001b[0m\u001b[0m\n\u001b[1;32m    996\u001b[0m               \u001b[0;32mraise\u001b[0m\u001b[0;34m\u001b[0m\u001b[0;34m\u001b[0m\u001b[0m\n",
            "\u001b[0;31mValueError\u001b[0m: in user code:\n\n    /usr/local/lib/python3.7/dist-packages/keras/engine/training.py:853 train_function  *\n        return step_function(self, iterator)\n    /usr/local/lib/python3.7/dist-packages/keras/engine/training.py:842 step_function  **\n        outputs = model.distribute_strategy.run(run_step, args=(data,))\n    /usr/local/lib/python3.7/dist-packages/tensorflow/python/distribute/distribute_lib.py:1286 run\n        return self._extended.call_for_each_replica(fn, args=args, kwargs=kwargs)\n    /usr/local/lib/python3.7/dist-packages/tensorflow/python/distribute/distribute_lib.py:2849 call_for_each_replica\n        return self._call_for_each_replica(fn, args, kwargs)\n    /usr/local/lib/python3.7/dist-packages/tensorflow/python/distribute/distribute_lib.py:3632 _call_for_each_replica\n        return fn(*args, **kwargs)\n    /usr/local/lib/python3.7/dist-packages/keras/engine/training.py:835 run_step  **\n        outputs = model.train_step(data)\n    /usr/local/lib/python3.7/dist-packages/keras/engine/training.py:789 train_step\n        y, y_pred, sample_weight, regularization_losses=self.losses)\n    /usr/local/lib/python3.7/dist-packages/keras/engine/compile_utils.py:201 __call__\n        loss_value = loss_obj(y_t, y_p, sample_weight=sw)\n    /usr/local/lib/python3.7/dist-packages/keras/losses.py:141 __call__\n        losses = call_fn(y_true, y_pred)\n    /usr/local/lib/python3.7/dist-packages/keras/losses.py:245 call  **\n        return ag_fn(y_true, y_pred, **self._fn_kwargs)\n    /usr/local/lib/python3.7/dist-packages/tensorflow/python/util/dispatch.py:206 wrapper\n        return target(*args, **kwargs)\n    /usr/local/lib/python3.7/dist-packages/keras/losses.py:1809 binary_crossentropy\n        backend.binary_crossentropy(y_true, y_pred, from_logits=from_logits),\n    /usr/local/lib/python3.7/dist-packages/tensorflow/python/util/dispatch.py:206 wrapper\n        return target(*args, **kwargs)\n    /usr/local/lib/python3.7/dist-packages/keras/backend.py:5000 binary_crossentropy\n        return tf.nn.sigmoid_cross_entropy_with_logits(labels=target, logits=output)\n    /usr/local/lib/python3.7/dist-packages/tensorflow/python/util/dispatch.py:206 wrapper\n        return target(*args, **kwargs)\n    /usr/local/lib/python3.7/dist-packages/tensorflow/python/ops/nn_impl.py:246 sigmoid_cross_entropy_with_logits_v2\n        logits=logits, labels=labels, name=name)\n    /usr/local/lib/python3.7/dist-packages/tensorflow/python/util/dispatch.py:206 wrapper\n        return target(*args, **kwargs)\n    /usr/local/lib/python3.7/dist-packages/tensorflow/python/ops/nn_impl.py:133 sigmoid_cross_entropy_with_logits\n        (logits.get_shape(), labels.get_shape()))\n\n    ValueError: logits and labels must have the same shape ((None, 3) vs (None, 1))\n"
          ]
        }
      ]
    },
    {
      "cell_type": "code",
      "metadata": {
        "id": "IOECjZzMyYpd",
        "colab": {
          "base_uri": "https://localhost:8080/"
        },
        "outputId": "70944fae-23fe-41db-f7eb-8175bcd87bd6"
      },
      "source": [
        "\t\n",
        "...\n",
        "# evaluate the keras model\n",
        "_, accuracy = model.evaluate(X, y)\n",
        "print('Accuracy: %.2f' % (accuracy*100))"
      ],
      "execution_count": null,
      "outputs": [
        {
          "output_type": "stream",
          "name": "stdout",
          "text": [
            "6/6 [==============================] - 0s 2ms/step - loss: 0.2796 - accuracy: 0.0000e+00\n",
            "Accuracy: 0.00\n"
          ]
        }
      ]
    },
    {
      "cell_type": "code",
      "metadata": {
        "id": "XYMnFefNZCgI"
      },
      "source": [
        ""
      ],
      "execution_count": null,
      "outputs": []
    },
    {
      "cell_type": "code",
      "metadata": {
        "id": "iLW_xHqeyYpd"
      },
      "source": [
        "\n",
        "import tensorflow as tf"
      ],
      "execution_count": null,
      "outputs": []
    },
    {
      "cell_type": "code",
      "metadata": {
        "id": "cV-VOSKwyYpV",
        "colab": {
          "base_uri": "https://localhost:8080/"
        },
        "outputId": "915cf7b7-4b73-4c18-f2de-8e1e8049b59b"
      },
      "source": [
        "input_size=4\n",
        "output_size=1\n",
        "models = tf.keras.Sequential([\n",
        "                             tf.keras.layers.Dense(output_size)\n",
        "                            ])\n",
        "custom_optimizer=tf.keras.optimizers.SGD(learning_rate=0.02)\n",
        "models.compile(optimizer=custom_optimizer,loss='mean_squared_error')\n",
        "models.fit(X_train,y_train,epochs=100,verbose=1)"
      ],
      "execution_count": null,
      "outputs": [
        {
          "output_type": "stream",
          "name": "stdout",
          "text": [
            "Epoch 1/100\n",
            "2/2 [==============================] - 1s 4ms/step - loss: 7596360.0000\n",
            "Epoch 2/100\n",
            "2/2 [==============================] - 0s 3ms/step - loss: 3527519185666048.0000\n",
            "Epoch 3/100\n",
            "2/2 [==============================] - 0s 3ms/step - loss: 7048429429431134047961088.0000\n",
            "Epoch 4/100\n",
            "2/2 [==============================] - 0s 6ms/step - loss: 3259793538532844576420438596386816.0000\n",
            "Epoch 5/100\n",
            "2/2 [==============================] - 0s 6ms/step - loss: inf\n",
            "Epoch 6/100\n",
            "2/2 [==============================] - 0s 2ms/step - loss: inf\n",
            "Epoch 7/100\n",
            "2/2 [==============================] - 0s 5ms/step - loss: inf\n",
            "Epoch 8/100\n",
            "2/2 [==============================] - 0s 5ms/step - loss: inf\n",
            "Epoch 9/100\n",
            "2/2 [==============================] - 0s 6ms/step - loss: inf\n",
            "Epoch 10/100\n",
            "2/2 [==============================] - 0s 3ms/step - loss: nan\n",
            "Epoch 11/100\n",
            "2/2 [==============================] - 0s 3ms/step - loss: nan\n",
            "Epoch 12/100\n",
            "2/2 [==============================] - 0s 4ms/step - loss: nan\n",
            "Epoch 13/100\n",
            "2/2 [==============================] - 0s 4ms/step - loss: nan\n",
            "Epoch 14/100\n",
            "2/2 [==============================] - 0s 4ms/step - loss: nan\n",
            "Epoch 15/100\n",
            "2/2 [==============================] - 0s 5ms/step - loss: nan\n",
            "Epoch 16/100\n",
            "2/2 [==============================] - 0s 4ms/step - loss: nan\n",
            "Epoch 17/100\n",
            "2/2 [==============================] - 0s 8ms/step - loss: nan\n",
            "Epoch 18/100\n",
            "2/2 [==============================] - 0s 9ms/step - loss: nan\n",
            "Epoch 19/100\n",
            "2/2 [==============================] - 0s 4ms/step - loss: nan\n",
            "Epoch 20/100\n",
            "2/2 [==============================] - 0s 7ms/step - loss: nan\n",
            "Epoch 21/100\n",
            "2/2 [==============================] - 0s 5ms/step - loss: nan\n",
            "Epoch 22/100\n",
            "2/2 [==============================] - 0s 3ms/step - loss: nan\n",
            "Epoch 23/100\n",
            "2/2 [==============================] - 0s 4ms/step - loss: nan\n",
            "Epoch 24/100\n",
            "2/2 [==============================] - 0s 4ms/step - loss: nan\n",
            "Epoch 25/100\n",
            "2/2 [==============================] - 0s 4ms/step - loss: nan\n",
            "Epoch 26/100\n",
            "2/2 [==============================] - 0s 4ms/step - loss: nan\n",
            "Epoch 27/100\n",
            "2/2 [==============================] - 0s 4ms/step - loss: nan\n",
            "Epoch 28/100\n",
            "2/2 [==============================] - 0s 3ms/step - loss: nan\n",
            "Epoch 29/100\n",
            "2/2 [==============================] - 0s 3ms/step - loss: nan\n",
            "Epoch 30/100\n",
            "2/2 [==============================] - 0s 6ms/step - loss: nan\n",
            "Epoch 31/100\n",
            "2/2 [==============================] - 0s 3ms/step - loss: nan\n",
            "Epoch 32/100\n",
            "2/2 [==============================] - 0s 7ms/step - loss: nan\n",
            "Epoch 33/100\n",
            "2/2 [==============================] - 0s 4ms/step - loss: nan\n",
            "Epoch 34/100\n",
            "2/2 [==============================] - 0s 4ms/step - loss: nan\n",
            "Epoch 35/100\n",
            "2/2 [==============================] - 0s 5ms/step - loss: nan\n",
            "Epoch 36/100\n",
            "2/2 [==============================] - 0s 7ms/step - loss: nan\n",
            "Epoch 37/100\n",
            "2/2 [==============================] - 0s 6ms/step - loss: nan\n",
            "Epoch 38/100\n",
            "2/2 [==============================] - 0s 5ms/step - loss: nan\n",
            "Epoch 39/100\n",
            "2/2 [==============================] - 0s 5ms/step - loss: nan\n",
            "Epoch 40/100\n",
            "2/2 [==============================] - 0s 4ms/step - loss: nan\n",
            "Epoch 41/100\n",
            "2/2 [==============================] - 0s 4ms/step - loss: nan\n",
            "Epoch 42/100\n",
            "2/2 [==============================] - 0s 4ms/step - loss: nan\n",
            "Epoch 43/100\n",
            "2/2 [==============================] - 0s 6ms/step - loss: nan\n",
            "Epoch 44/100\n",
            "2/2 [==============================] - 0s 7ms/step - loss: nan\n",
            "Epoch 45/100\n",
            "2/2 [==============================] - 0s 7ms/step - loss: nan\n",
            "Epoch 46/100\n",
            "2/2 [==============================] - 0s 6ms/step - loss: nan\n",
            "Epoch 47/100\n",
            "2/2 [==============================] - 0s 3ms/step - loss: nan\n",
            "Epoch 48/100\n",
            "2/2 [==============================] - 0s 4ms/step - loss: nan\n",
            "Epoch 49/100\n",
            "2/2 [==============================] - 0s 5ms/step - loss: nan\n",
            "Epoch 50/100\n",
            "2/2 [==============================] - 0s 7ms/step - loss: nan\n",
            "Epoch 51/100\n",
            "2/2 [==============================] - 0s 7ms/step - loss: nan\n",
            "Epoch 52/100\n",
            "2/2 [==============================] - 0s 5ms/step - loss: nan\n",
            "Epoch 53/100\n",
            "2/2 [==============================] - 0s 6ms/step - loss: nan\n",
            "Epoch 54/100\n",
            "2/2 [==============================] - 0s 8ms/step - loss: nan\n",
            "Epoch 55/100\n",
            "2/2 [==============================] - 0s 4ms/step - loss: nan\n",
            "Epoch 56/100\n",
            "2/2 [==============================] - 0s 4ms/step - loss: nan\n",
            "Epoch 57/100\n",
            "2/2 [==============================] - 0s 4ms/step - loss: nan\n",
            "Epoch 58/100\n",
            "2/2 [==============================] - 0s 4ms/step - loss: nan\n",
            "Epoch 59/100\n",
            "2/2 [==============================] - 0s 4ms/step - loss: nan\n",
            "Epoch 60/100\n",
            "2/2 [==============================] - 0s 3ms/step - loss: nan\n",
            "Epoch 61/100\n",
            "2/2 [==============================] - 0s 4ms/step - loss: nan\n",
            "Epoch 62/100\n",
            "2/2 [==============================] - 0s 3ms/step - loss: nan\n",
            "Epoch 63/100\n",
            "2/2 [==============================] - 0s 4ms/step - loss: nan\n",
            "Epoch 64/100\n",
            "2/2 [==============================] - 0s 4ms/step - loss: nan\n",
            "Epoch 65/100\n",
            "2/2 [==============================] - 0s 5ms/step - loss: nan\n",
            "Epoch 66/100\n",
            "2/2 [==============================] - 0s 6ms/step - loss: nan\n",
            "Epoch 67/100\n",
            "2/2 [==============================] - 0s 3ms/step - loss: nan\n",
            "Epoch 68/100\n",
            "2/2 [==============================] - 0s 3ms/step - loss: nan\n",
            "Epoch 69/100\n",
            "2/2 [==============================] - 0s 4ms/step - loss: nan\n",
            "Epoch 70/100\n",
            "2/2 [==============================] - 0s 3ms/step - loss: nan\n",
            "Epoch 71/100\n",
            "2/2 [==============================] - 0s 3ms/step - loss: nan\n",
            "Epoch 72/100\n",
            "2/2 [==============================] - 0s 5ms/step - loss: nan\n",
            "Epoch 73/100\n",
            "2/2 [==============================] - 0s 5ms/step - loss: nan\n",
            "Epoch 74/100\n",
            "2/2 [==============================] - 0s 5ms/step - loss: nan\n",
            "Epoch 75/100\n",
            "2/2 [==============================] - 0s 5ms/step - loss: nan\n",
            "Epoch 76/100\n",
            "2/2 [==============================] - 0s 5ms/step - loss: nan\n",
            "Epoch 77/100\n",
            "2/2 [==============================] - 0s 3ms/step - loss: nan\n",
            "Epoch 78/100\n",
            "2/2 [==============================] - 0s 6ms/step - loss: nan\n",
            "Epoch 79/100\n",
            "2/2 [==============================] - 0s 5ms/step - loss: nan\n",
            "Epoch 80/100\n",
            "2/2 [==============================] - 0s 7ms/step - loss: nan\n",
            "Epoch 81/100\n",
            "2/2 [==============================] - 0s 4ms/step - loss: nan\n",
            "Epoch 82/100\n",
            "2/2 [==============================] - 0s 3ms/step - loss: nan\n",
            "Epoch 83/100\n",
            "2/2 [==============================] - 0s 3ms/step - loss: nan\n",
            "Epoch 84/100\n",
            "2/2 [==============================] - 0s 7ms/step - loss: nan\n",
            "Epoch 85/100\n",
            "2/2 [==============================] - 0s 3ms/step - loss: nan\n",
            "Epoch 86/100\n",
            "2/2 [==============================] - 0s 3ms/step - loss: nan\n",
            "Epoch 87/100\n",
            "2/2 [==============================] - 0s 3ms/step - loss: nan\n",
            "Epoch 88/100\n",
            "2/2 [==============================] - 0s 3ms/step - loss: nan\n",
            "Epoch 89/100\n",
            "2/2 [==============================] - 0s 4ms/step - loss: nan\n",
            "Epoch 90/100\n",
            "2/2 [==============================] - 0s 9ms/step - loss: nan\n",
            "Epoch 91/100\n",
            "2/2 [==============================] - 0s 3ms/step - loss: nan\n",
            "Epoch 92/100\n",
            "2/2 [==============================] - 0s 3ms/step - loss: nan\n",
            "Epoch 93/100\n",
            "2/2 [==============================] - 0s 7ms/step - loss: nan\n",
            "Epoch 94/100\n",
            "2/2 [==============================] - 0s 3ms/step - loss: nan\n",
            "Epoch 95/100\n",
            "2/2 [==============================] - 0s 9ms/step - loss: nan\n",
            "Epoch 96/100\n",
            "2/2 [==============================] - 0s 3ms/step - loss: nan\n",
            "Epoch 97/100\n",
            "2/2 [==============================] - 0s 3ms/step - loss: nan\n",
            "Epoch 98/100\n",
            "2/2 [==============================] - 0s 9ms/step - loss: nan\n",
            "Epoch 99/100\n",
            "2/2 [==============================] - 0s 3ms/step - loss: nan\n",
            "Epoch 100/100\n",
            "2/2 [==============================] - 0s 5ms/step - loss: nan\n"
          ]
        },
        {
          "output_type": "execute_result",
          "data": {
            "text/plain": [
              "<keras.callbacks.History at 0x7f4dd2029ad0>"
            ]
          },
          "metadata": {},
          "execution_count": 10
        }
      ]
    },
    {
      "cell_type": "code",
      "metadata": {
        "id": "iB2HEFWCN04J",
        "colab": {
          "base_uri": "https://localhost:8080/",
          "height": 200
        },
        "outputId": "0945ead2-f9d0-4d47-cd4b-aaad146ef4d5"
      },
      "source": [
        "out=training_data['targets'].round(1)\n",
        "from sklearn.metrics import mean_squared_error\n",
        "mean_squared_error(generated_target, out, squared=False)"
      ],
      "execution_count": null,
      "outputs": [
        {
          "output_type": "error",
          "ename": "NameError",
          "evalue": "ignored",
          "traceback": [
            "\u001b[0;31m---------------------------------------------------------------------------\u001b[0m",
            "\u001b[0;31mNameError\u001b[0m                                 Traceback (most recent call last)",
            "\u001b[0;32m<ipython-input-40-6084ed48736d>\u001b[0m in \u001b[0;36m<module>\u001b[0;34m()\u001b[0m\n\u001b[0;32m----> 1\u001b[0;31m \u001b[0mout\u001b[0m\u001b[0;34m=\u001b[0m\u001b[0mtraining_data\u001b[0m\u001b[0;34m[\u001b[0m\u001b[0;34m'targets'\u001b[0m\u001b[0;34m]\u001b[0m\u001b[0;34m.\u001b[0m\u001b[0mround\u001b[0m\u001b[0;34m(\u001b[0m\u001b[0;36m1\u001b[0m\u001b[0;34m)\u001b[0m\u001b[0;34m\u001b[0m\u001b[0;34m\u001b[0m\u001b[0m\n\u001b[0m\u001b[1;32m      2\u001b[0m \u001b[0;32mfrom\u001b[0m \u001b[0msklearn\u001b[0m\u001b[0;34m.\u001b[0m\u001b[0mmetrics\u001b[0m \u001b[0;32mimport\u001b[0m \u001b[0mmean_squared_error\u001b[0m\u001b[0;34m\u001b[0m\u001b[0;34m\u001b[0m\u001b[0m\n\u001b[1;32m      3\u001b[0m \u001b[0mmean_squared_error\u001b[0m\u001b[0;34m(\u001b[0m\u001b[0mgenerated_target\u001b[0m\u001b[0;34m,\u001b[0m \u001b[0mout\u001b[0m\u001b[0;34m,\u001b[0m \u001b[0msquared\u001b[0m\u001b[0;34m=\u001b[0m\u001b[0;32mFalse\u001b[0m\u001b[0;34m)\u001b[0m\u001b[0;34m\u001b[0m\u001b[0;34m\u001b[0m\u001b[0m\n",
            "\u001b[0;31mNameError\u001b[0m: name 'training_data' is not defined"
          ]
        }
      ]
    },
    {
      "cell_type": "code",
      "metadata": {
        "id": "79bdekYSN8eY"
      },
      "source": [
        "TargetVariable=['COD(mg/l)']\n",
        "Predictors=['BOD(mg/l)', 'AMMONIA(mg/l)', 'TSS(mg/l)', 'NITRATE(mg/l)','DO(mg/l)','PH','TEMPERATURE(C)']"
      ],
      "execution_count": null,
      "outputs": []
    },
    {
      "cell_type": "code",
      "metadata": {
        "id": "dUoU0MT3ODdL"
      },
      "source": [
        "X=df[Predictors].values\n",
        "y=df[TargetVariable].values"
      ],
      "execution_count": null,
      "outputs": []
    },
    {
      "cell_type": "code",
      "metadata": {
        "id": "_J_UPNQOOG4O"
      },
      "source": [
        "from sklearn.preprocessing import StandardScaler\n",
        "PredictorScaler=StandardScaler()\n",
        "TargetVarScaler=StandardScaler()"
      ],
      "execution_count": null,
      "outputs": []
    },
    {
      "cell_type": "code",
      "metadata": {
        "id": "vYrlR8nwOLm4"
      },
      "source": [
        "# Storing the fit object for later reference\n",
        "PredictorScalerFit=PredictorScaler.fit(X)\n",
        "TargetVarScalerFit=TargetVarScaler.fit(y)"
      ],
      "execution_count": null,
      "outputs": []
    },
    {
      "cell_type": "code",
      "metadata": {
        "id": "tn_FnqbtOTA4"
      },
      "source": [
        "# Generating the standardized values of X and y\n",
        "X=PredictorScalerFit.transform(X)\n",
        "y=TargetVarScalerFit.transform(y)"
      ],
      "execution_count": null,
      "outputs": []
    },
    {
      "cell_type": "code",
      "metadata": {
        "id": "dbZ8fScKRZtc"
      },
      "source": [
        "# Split the data into training and testing set\n",
        "from sklearn.model_selection import train_test_split\n",
        "X_train, X_test, y_train, y_test = train_test_split(X, y, test_size=0.3, random_state=42)\n",
        " "
      ],
      "execution_count": null,
      "outputs": []
    },
    {
      "cell_type": "code",
      "metadata": {
        "colab": {
          "base_uri": "https://localhost:8080/"
        },
        "id": "3ktRyU5PRZ6G",
        "outputId": "e72e5c0c-e2ff-4ab2-b125-9493bf75546e"
      },
      "source": [
        "# Quick sanity check with the shapes of Training and testing datasets\n",
        "print(X_train.shape)\n",
        "print(y_train.shape)\n",
        "print(X_test.shape)\n",
        "print(y_test.shape)"
      ],
      "execution_count": null,
      "outputs": [
        {
          "output_type": "stream",
          "name": "stdout",
          "text": [
            "(121, 7)\n",
            "(121, 1)\n",
            "(52, 7)\n",
            "(52, 1)\n"
          ]
        }
      ]
    },
    {
      "cell_type": "code",
      "metadata": {
        "colab": {
          "base_uri": "https://localhost:8080/"
        },
        "id": "6AVQEQ9GRaB_",
        "outputId": "610260e0-1959-4ac5-d430-4f432b796bda"
      },
      "source": [
        "!pip install tensorflow\n",
        "!pip install keras"
      ],
      "execution_count": null,
      "outputs": [
        {
          "output_type": "stream",
          "name": "stdout",
          "text": [
            "Requirement already satisfied: tensorflow in /usr/local/lib/python3.7/dist-packages (2.6.0)\n",
            "Requirement already satisfied: astunparse~=1.6.3 in /usr/local/lib/python3.7/dist-packages (from tensorflow) (1.6.3)\n",
            "Requirement already satisfied: wheel~=0.35 in /usr/local/lib/python3.7/dist-packages (from tensorflow) (0.37.0)\n",
            "Requirement already satisfied: google-pasta~=0.2 in /usr/local/lib/python3.7/dist-packages (from tensorflow) (0.2.0)\n",
            "Requirement already satisfied: six~=1.15.0 in /usr/local/lib/python3.7/dist-packages (from tensorflow) (1.15.0)\n",
            "Requirement already satisfied: keras~=2.6 in /usr/local/lib/python3.7/dist-packages (from tensorflow) (2.6.0)\n",
            "Requirement already satisfied: absl-py~=0.10 in /usr/local/lib/python3.7/dist-packages (from tensorflow) (0.12.0)\n",
            "Requirement already satisfied: typing-extensions~=3.7.4 in /usr/local/lib/python3.7/dist-packages (from tensorflow) (3.7.4.3)\n",
            "Requirement already satisfied: tensorflow-estimator~=2.6 in /usr/local/lib/python3.7/dist-packages (from tensorflow) (2.6.0)\n",
            "Requirement already satisfied: h5py~=3.1.0 in /usr/local/lib/python3.7/dist-packages (from tensorflow) (3.1.0)\n",
            "Requirement already satisfied: grpcio<2.0,>=1.37.0 in /usr/local/lib/python3.7/dist-packages (from tensorflow) (1.40.0)\n",
            "Requirement already satisfied: protobuf>=3.9.2 in /usr/local/lib/python3.7/dist-packages (from tensorflow) (3.17.3)\n",
            "Requirement already satisfied: tensorboard~=2.6 in /usr/local/lib/python3.7/dist-packages (from tensorflow) (2.6.0)\n",
            "Requirement already satisfied: numpy~=1.19.2 in /usr/local/lib/python3.7/dist-packages (from tensorflow) (1.19.5)\n",
            "Requirement already satisfied: gast==0.4.0 in /usr/local/lib/python3.7/dist-packages (from tensorflow) (0.4.0)\n",
            "Requirement already satisfied: wrapt~=1.12.1 in /usr/local/lib/python3.7/dist-packages (from tensorflow) (1.12.1)\n",
            "Requirement already satisfied: termcolor~=1.1.0 in /usr/local/lib/python3.7/dist-packages (from tensorflow) (1.1.0)\n",
            "Requirement already satisfied: flatbuffers~=1.12.0 in /usr/local/lib/python3.7/dist-packages (from tensorflow) (1.12)\n",
            "Requirement already satisfied: clang~=5.0 in /usr/local/lib/python3.7/dist-packages (from tensorflow) (5.0)\n",
            "Requirement already satisfied: opt-einsum~=3.3.0 in /usr/local/lib/python3.7/dist-packages (from tensorflow) (3.3.0)\n",
            "Requirement already satisfied: keras-preprocessing~=1.1.2 in /usr/local/lib/python3.7/dist-packages (from tensorflow) (1.1.2)\n",
            "Requirement already satisfied: cached-property in /usr/local/lib/python3.7/dist-packages (from h5py~=3.1.0->tensorflow) (1.5.2)\n",
            "Requirement already satisfied: requests<3,>=2.21.0 in /usr/local/lib/python3.7/dist-packages (from tensorboard~=2.6->tensorflow) (2.23.0)\n",
            "Requirement already satisfied: setuptools>=41.0.0 in /usr/local/lib/python3.7/dist-packages (from tensorboard~=2.6->tensorflow) (57.4.0)\n",
            "Requirement already satisfied: werkzeug>=0.11.15 in /usr/local/lib/python3.7/dist-packages (from tensorboard~=2.6->tensorflow) (1.0.1)\n",
            "Requirement already satisfied: google-auth-oauthlib<0.5,>=0.4.1 in /usr/local/lib/python3.7/dist-packages (from tensorboard~=2.6->tensorflow) (0.4.6)\n",
            "Requirement already satisfied: markdown>=2.6.8 in /usr/local/lib/python3.7/dist-packages (from tensorboard~=2.6->tensorflow) (3.3.4)\n",
            "Requirement already satisfied: tensorboard-plugin-wit>=1.6.0 in /usr/local/lib/python3.7/dist-packages (from tensorboard~=2.6->tensorflow) (1.8.0)\n",
            "Requirement already satisfied: tensorboard-data-server<0.7.0,>=0.6.0 in /usr/local/lib/python3.7/dist-packages (from tensorboard~=2.6->tensorflow) (0.6.1)\n",
            "Requirement already satisfied: google-auth<2,>=1.6.3 in /usr/local/lib/python3.7/dist-packages (from tensorboard~=2.6->tensorflow) (1.35.0)\n",
            "Requirement already satisfied: cachetools<5.0,>=2.0.0 in /usr/local/lib/python3.7/dist-packages (from google-auth<2,>=1.6.3->tensorboard~=2.6->tensorflow) (4.2.2)\n",
            "Requirement already satisfied: rsa<5,>=3.1.4 in /usr/local/lib/python3.7/dist-packages (from google-auth<2,>=1.6.3->tensorboard~=2.6->tensorflow) (4.7.2)\n",
            "Requirement already satisfied: pyasn1-modules>=0.2.1 in /usr/local/lib/python3.7/dist-packages (from google-auth<2,>=1.6.3->tensorboard~=2.6->tensorflow) (0.2.8)\n",
            "Requirement already satisfied: requests-oauthlib>=0.7.0 in /usr/local/lib/python3.7/dist-packages (from google-auth-oauthlib<0.5,>=0.4.1->tensorboard~=2.6->tensorflow) (1.3.0)\n",
            "Requirement already satisfied: importlib-metadata in /usr/local/lib/python3.7/dist-packages (from markdown>=2.6.8->tensorboard~=2.6->tensorflow) (4.8.1)\n",
            "Requirement already satisfied: pyasn1<0.5.0,>=0.4.6 in /usr/local/lib/python3.7/dist-packages (from pyasn1-modules>=0.2.1->google-auth<2,>=1.6.3->tensorboard~=2.6->tensorflow) (0.4.8)\n",
            "Requirement already satisfied: chardet<4,>=3.0.2 in /usr/local/lib/python3.7/dist-packages (from requests<3,>=2.21.0->tensorboard~=2.6->tensorflow) (3.0.4)\n",
            "Requirement already satisfied: certifi>=2017.4.17 in /usr/local/lib/python3.7/dist-packages (from requests<3,>=2.21.0->tensorboard~=2.6->tensorflow) (2021.5.30)\n",
            "Requirement already satisfied: urllib3!=1.25.0,!=1.25.1,<1.26,>=1.21.1 in /usr/local/lib/python3.7/dist-packages (from requests<3,>=2.21.0->tensorboard~=2.6->tensorflow) (1.24.3)\n",
            "Requirement already satisfied: idna<3,>=2.5 in /usr/local/lib/python3.7/dist-packages (from requests<3,>=2.21.0->tensorboard~=2.6->tensorflow) (2.10)\n",
            "Requirement already satisfied: oauthlib>=3.0.0 in /usr/local/lib/python3.7/dist-packages (from requests-oauthlib>=0.7.0->google-auth-oauthlib<0.5,>=0.4.1->tensorboard~=2.6->tensorflow) (3.1.1)\n",
            "Requirement already satisfied: zipp>=0.5 in /usr/local/lib/python3.7/dist-packages (from importlib-metadata->markdown>=2.6.8->tensorboard~=2.6->tensorflow) (3.5.0)\n",
            "Requirement already satisfied: keras in /usr/local/lib/python3.7/dist-packages (2.6.0)\n"
          ]
        }
      ]
    },
    {
      "cell_type": "code",
      "metadata": {
        "colab": {
          "base_uri": "https://localhost:8080/"
        },
        "id": "fgC_fIxkRaG7",
        "outputId": "159bb22f-e9db-4537-c98a-da681a6b4bb2"
      },
      "source": [
        "from keras.models import Sequential\n",
        "from keras.layers import Dense\n",
        " \n",
        "# create ANN model\n",
        "model = Sequential()\n",
        " \n",
        "# Defining the Input layer and FIRST hidden layer, both are same!\n",
        "model.add(Dense(units=5, input_dim=7, kernel_initializer='normal', activation='relu'))\n",
        " \n",
        "# Defining the Second layer of the model\n",
        "# after the first layer we don't have to specify input_dim as keras configure it automatically\n",
        "model.add(Dense(units=5, kernel_initializer='normal', activation='tanh'))\n",
        " \n",
        "# The output neuron is a single fully connected node \n",
        "# Since we will be predicting a single number\n",
        "model.add(Dense(1, kernel_initializer='normal'))\n",
        " \n",
        "# Compiling the model\n",
        "model.compile(loss='mean_squared_error', optimizer='adam',metrics=['accuracy'])\n",
        "\n",
        "\n",
        " \n",
        "# Fitting the ANN to the Training set\n",
        "model.fit(X_train, y_train ,batch_size = 20, epochs = 50, verbose=1)"
      ],
      "execution_count": null,
      "outputs": [
        {
          "output_type": "stream",
          "name": "stdout",
          "text": [
            "Epoch 1/50\n",
            "7/7 [==============================] - 0s 2ms/step - loss: 0.7918 - accuracy: 0.0000e+00\n",
            "Epoch 2/50\n",
            "7/7 [==============================] - 0s 2ms/step - loss: 0.7900 - accuracy: 0.0000e+00\n",
            "Epoch 3/50\n",
            "7/7 [==============================] - 0s 2ms/step - loss: 0.7881 - accuracy: 0.0000e+00\n",
            "Epoch 4/50\n",
            "7/7 [==============================] - 0s 2ms/step - loss: 0.7855 - accuracy: 0.0000e+00\n",
            "Epoch 5/50\n",
            "7/7 [==============================] - 0s 2ms/step - loss: 0.7823 - accuracy: 0.0000e+00\n",
            "Epoch 6/50\n",
            "7/7 [==============================] - 0s 2ms/step - loss: 0.7779 - accuracy: 0.0000e+00\n",
            "Epoch 7/50\n",
            "7/7 [==============================] - 0s 3ms/step - loss: 0.7728 - accuracy: 0.0000e+00\n",
            "Epoch 8/50\n",
            "7/7 [==============================] - 0s 2ms/step - loss: 0.7649 - accuracy: 0.0000e+00\n",
            "Epoch 9/50\n",
            "7/7 [==============================] - 0s 2ms/step - loss: 0.7558 - accuracy: 0.0000e+00\n",
            "Epoch 10/50\n",
            "7/7 [==============================] - 0s 3ms/step - loss: 0.7455 - accuracy: 0.0000e+00\n",
            "Epoch 11/50\n",
            "7/7 [==============================] - 0s 2ms/step - loss: 0.7352 - accuracy: 0.0000e+00\n",
            "Epoch 12/50\n",
            "7/7 [==============================] - 0s 2ms/step - loss: 0.7257 - accuracy: 0.0000e+00\n",
            "Epoch 13/50\n",
            "7/7 [==============================] - 0s 2ms/step - loss: 0.7176 - accuracy: 0.0000e+00\n",
            "Epoch 14/50\n",
            "7/7 [==============================] - 0s 2ms/step - loss: 0.7091 - accuracy: 0.0000e+00\n",
            "Epoch 15/50\n",
            "7/7 [==============================] - 0s 2ms/step - loss: 0.7004 - accuracy: 0.0000e+00\n",
            "Epoch 16/50\n",
            "7/7 [==============================] - 0s 2ms/step - loss: 0.6910 - accuracy: 0.0000e+00\n",
            "Epoch 17/50\n",
            "7/7 [==============================] - 0s 2ms/step - loss: 0.6818 - accuracy: 0.0000e+00\n",
            "Epoch 18/50\n",
            "7/7 [==============================] - 0s 2ms/step - loss: 0.6723 - accuracy: 0.0000e+00\n",
            "Epoch 19/50\n",
            "7/7 [==============================] - 0s 2ms/step - loss: 0.6621 - accuracy: 0.0000e+00\n",
            "Epoch 20/50\n",
            "7/7 [==============================] - 0s 3ms/step - loss: 0.6524 - accuracy: 0.0000e+00\n",
            "Epoch 21/50\n",
            "7/7 [==============================] - 0s 2ms/step - loss: 0.6413 - accuracy: 0.0000e+00\n",
            "Epoch 22/50\n",
            "7/7 [==============================] - 0s 3ms/step - loss: 0.6289 - accuracy: 0.0000e+00\n",
            "Epoch 23/50\n",
            "7/7 [==============================] - 0s 2ms/step - loss: 0.6153 - accuracy: 0.0000e+00\n",
            "Epoch 24/50\n",
            "7/7 [==============================] - 0s 2ms/step - loss: 0.6012 - accuracy: 0.0000e+00\n",
            "Epoch 25/50\n",
            "7/7 [==============================] - 0s 3ms/step - loss: 0.5877 - accuracy: 0.0000e+00\n",
            "Epoch 26/50\n",
            "7/7 [==============================] - 0s 2ms/step - loss: 0.5710 - accuracy: 0.0000e+00\n",
            "Epoch 27/50\n",
            "7/7 [==============================] - 0s 2ms/step - loss: 0.5551 - accuracy: 0.0000e+00\n",
            "Epoch 28/50\n",
            "7/7 [==============================] - 0s 2ms/step - loss: 0.5412 - accuracy: 0.0000e+00\n",
            "Epoch 29/50\n",
            "7/7 [==============================] - 0s 2ms/step - loss: 0.5140 - accuracy: 0.0000e+00\n",
            "Epoch 30/50\n",
            "7/7 [==============================] - 0s 3ms/step - loss: 0.4926 - accuracy: 0.0000e+00\n",
            "Epoch 31/50\n",
            "7/7 [==============================] - 0s 3ms/step - loss: 0.4803 - accuracy: 0.0000e+00\n",
            "Epoch 32/50\n",
            "7/7 [==============================] - 0s 2ms/step - loss: 0.4616 - accuracy: 0.0000e+00\n",
            "Epoch 33/50\n",
            "7/7 [==============================] - 0s 3ms/step - loss: 0.4481 - accuracy: 0.0000e+00\n",
            "Epoch 34/50\n",
            "7/7 [==============================] - 0s 2ms/step - loss: 0.4316 - accuracy: 0.0000e+00\n",
            "Epoch 35/50\n",
            "7/7 [==============================] - 0s 2ms/step - loss: 0.4189 - accuracy: 0.0000e+00\n",
            "Epoch 36/50\n",
            "7/7 [==============================] - 0s 3ms/step - loss: 0.4069 - accuracy: 0.0000e+00\n",
            "Epoch 37/50\n",
            "7/7 [==============================] - 0s 2ms/step - loss: 0.3954 - accuracy: 0.0000e+00\n",
            "Epoch 38/50\n",
            "7/7 [==============================] - 0s 2ms/step - loss: 0.3850 - accuracy: 0.0000e+00\n",
            "Epoch 39/50\n",
            "7/7 [==============================] - 0s 2ms/step - loss: 0.3758 - accuracy: 0.0000e+00\n",
            "Epoch 40/50\n",
            "7/7 [==============================] - 0s 2ms/step - loss: 0.3655 - accuracy: 0.0000e+00\n",
            "Epoch 41/50\n",
            "7/7 [==============================] - 0s 3ms/step - loss: 0.3564 - accuracy: 0.0000e+00\n",
            "Epoch 42/50\n",
            "7/7 [==============================] - 0s 3ms/step - loss: 0.3467 - accuracy: 0.0000e+00\n",
            "Epoch 43/50\n",
            "7/7 [==============================] - 0s 3ms/step - loss: 0.3347 - accuracy: 0.0000e+00\n",
            "Epoch 44/50\n",
            "7/7 [==============================] - 0s 2ms/step - loss: 0.3255 - accuracy: 0.0000e+00\n",
            "Epoch 45/50\n",
            "7/7 [==============================] - 0s 2ms/step - loss: 0.3164 - accuracy: 0.0000e+00\n",
            "Epoch 46/50\n",
            "7/7 [==============================] - 0s 2ms/step - loss: 0.3092 - accuracy: 0.0000e+00\n",
            "Epoch 47/50\n",
            "7/7 [==============================] - 0s 2ms/step - loss: 0.2976 - accuracy: 0.0000e+00\n",
            "Epoch 48/50\n",
            "7/7 [==============================] - 0s 2ms/step - loss: 0.2878 - accuracy: 0.0000e+00\n",
            "Epoch 49/50\n",
            "7/7 [==============================] - 0s 2ms/step - loss: 0.2810 - accuracy: 0.0000e+00\n",
            "Epoch 50/50\n",
            "7/7 [==============================] - 0s 2ms/step - loss: 0.2735 - accuracy: 0.0000e+00\n"
          ]
        },
        {
          "output_type": "execute_result",
          "data": {
            "text/plain": [
              "<keras.callbacks.History at 0x7f4e307139d0>"
            ]
          },
          "metadata": {},
          "execution_count": 56
        }
      ]
    },
    {
      "cell_type": "code",
      "metadata": {
        "colab": {
          "base_uri": "https://localhost:8080/",
          "height": 220
        },
        "id": "PWCYq78MZFnB",
        "outputId": "7c527c5b-ebaa-4dc2-b214-7d384d0294e2"
      },
      "source": [
        ""
      ],
      "execution_count": null,
      "outputs": [
        {
          "output_type": "stream",
          "name": "stdout",
          "text": [
            "6/6 [==============================] - 0s 2ms/step - loss: 0.2796 - accuracy: 0.0000e+00\n"
          ]
        },
        {
          "output_type": "error",
          "ename": "TypeError",
          "evalue": "ignored",
          "traceback": [
            "\u001b[0;31m---------------------------------------------------------------------------\u001b[0m",
            "\u001b[0;31mTypeError\u001b[0m                                 Traceback (most recent call last)",
            "\u001b[0;32m<ipython-input-54-be38e7ccf176>\u001b[0m in \u001b[0;36m<module>\u001b[0;34m()\u001b[0m\n\u001b[1;32m      1\u001b[0m \u001b[0maccuracy\u001b[0m \u001b[0;34m=\u001b[0m \u001b[0mmodel\u001b[0m\u001b[0;34m.\u001b[0m\u001b[0mevaluate\u001b[0m\u001b[0;34m(\u001b[0m\u001b[0mX\u001b[0m\u001b[0;34m,\u001b[0m \u001b[0my\u001b[0m\u001b[0;34m)\u001b[0m\u001b[0;34m\u001b[0m\u001b[0;34m\u001b[0m\u001b[0m\n\u001b[0;32m----> 2\u001b[0;31m \u001b[0mprint\u001b[0m\u001b[0;34m(\u001b[0m\u001b[0;34m'Accuracy: %.2f'\u001b[0m \u001b[0;34m%\u001b[0m \u001b[0;34m(\u001b[0m\u001b[0maccuracy\u001b[0m\u001b[0;34m*\u001b[0m\u001b[0;36m100\u001b[0m\u001b[0;34m)\u001b[0m\u001b[0;34m)\u001b[0m\u001b[0;34m\u001b[0m\u001b[0;34m\u001b[0m\u001b[0m\n\u001b[0m",
            "\u001b[0;31mTypeError\u001b[0m: must be real number, not list"
          ]
        }
      ]
    },
    {
      "cell_type": "code",
      "metadata": {
        "id": "69JdfV0dSPw8"
      },
      "source": [
        "def FunctionFindBestParams(X_train, y_train, X_test, y_test):\n",
        "    \n",
        "    # Defining the list of hyper parameters to try\n",
        "    batch_size_list=[5, 10, 15, 20]\n",
        "    epoch_list  =   [5, 10, 50, 100]\n",
        "    \n",
        "    import pandas as pd\n",
        "    SearchResultsData=pd.DataFrame(columns=['TrialNumber', 'Parameters', 'Accuracy'])\n",
        "    \n",
        "    # initializing the trials\n",
        "    TrialNumber=0\n",
        "    for batch_size_trial in batch_size_list:\n",
        "        for epochs_trial in epoch_list:\n",
        "            TrialNumber+=1\n",
        "            # create ANN model\n",
        "            model = Sequential()\n",
        "            # Defining the first layer of the model\n",
        "            model.add(Dense(units=5, input_dim=X_train.shape[1], kernel_initializer='normal', activation='relu'))\n",
        " \n",
        "            # Defining the Second layer of the model\n",
        "            model.add(Dense(units=5, kernel_initializer='normal', activation='relu'))\n",
        " \n",
        "            # The output neuron is a single fully connected node \n",
        "            # Since we will be predicting a single number\n",
        "            model.add(Dense(1, kernel_initializer='normal'))\n",
        " \n",
        "            # Compiling the model\n",
        "            model.compile(loss='mean_squared_error', optimizer='adam')\n",
        " \n",
        "            # Fitting the ANN to the Training set\n",
        "            model.fit(X_train, y_train ,batch_size = batch_size_trial, epochs = epochs_trial, verbose=0)\n",
        " \n",
        "            MAPE = np.mean(100 * (np.abs(y_test-model.predict(X_test))/y_test))\n",
        "            \n",
        "            # printing the results of the current iteration\n",
        "            print(TrialNumber, 'Parameters:','batch_size:', batch_size_trial,'-', 'epochs:',epochs_trial, 'Accuracy:', 100-MAPE)\n",
        "            \n",
        "            SearchResultsData=SearchResultsData.append(pd.DataFrame(data=[[TrialNumber, str(batch_size_trial)+'-'+str(epochs_trial), 100-MAPE]],\n",
        "                                                                    columns=['TrialNumber', 'Parameters', 'Accuracy'] ))\n",
        "    return(SearchResultsData)\n",
        " "
      ],
      "execution_count": null,
      "outputs": []
    },
    {
      "cell_type": "code",
      "metadata": {
        "id": "Oxhmc25rVj5U"
      },
      "source": [
        ""
      ],
      "execution_count": null,
      "outputs": []
    },
    {
      "cell_type": "code",
      "metadata": {
        "colab": {
          "base_uri": "https://localhost:8080/"
        },
        "id": "asSJQvohUVZ-",
        "outputId": "c0fb00fc-16de-4279-a97f-f1e768a905e8"
      },
      "source": [
        "######################################################\n",
        "# Calling the function\n",
        "ResultsData=FunctionFindBestParams(X_train, y_train, X_test, y_test)"
      ],
      "execution_count": null,
      "outputs": [
        {
          "output_type": "stream",
          "name": "stdout",
          "text": [
            "1 Parameters: batch_size: 5 - epochs: 5 Accuracy: 144.22856794483118\n",
            "2 Parameters: batch_size: 5 - epochs: 10 Accuracy: 108.60901129308053\n",
            "3 Parameters: batch_size: 5 - epochs: 50 Accuracy: 113.40940269705463\n",
            "4 Parameters: batch_size: 5 - epochs: 100 Accuracy: 108.77263247819683\n",
            "5 Parameters: batch_size: 10 - epochs: 5 Accuracy: 162.88437776662488\n",
            "6 Parameters: batch_size: 10 - epochs: 10 Accuracy: 156.54537704417248\n",
            "7 Parameters: batch_size: 10 - epochs: 50 Accuracy: 100.41545426352128\n",
            "8 Parameters: batch_size: 10 - epochs: 100 Accuracy: 108.70415825961402\n",
            "9 Parameters: batch_size: 15 - epochs: 5 Accuracy: 164.2457714948339\n",
            "10 Parameters: batch_size: 15 - epochs: 10 Accuracy: 165.82343599701187\n",
            "11 Parameters: batch_size: 15 - epochs: 50 Accuracy: 115.91167241828035\n",
            "12 Parameters: batch_size: 15 - epochs: 100 Accuracy: 111.75738633969034\n",
            "13 Parameters: batch_size: 20 - epochs: 5 Accuracy: 166.7844552315314\n",
            "14 Parameters: batch_size: 20 - epochs: 10 Accuracy: 158.24230309133156\n",
            "15 Parameters: batch_size: 20 - epochs: 50 Accuracy: 146.74218098349172\n",
            "16 Parameters: batch_size: 20 - epochs: 100 Accuracy: 116.60529594590952\n"
          ]
        }
      ]
    }
  ]
}